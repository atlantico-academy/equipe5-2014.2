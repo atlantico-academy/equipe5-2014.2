{
 "cells": [
  {
   "cell_type": "markdown",
   "id": "626f2531-198b-46c4-bb8e-5dee6450bc35",
   "metadata": {},
   "source": [
    "## Análise comparativa de modelos"
   ]
  },
  {
   "cell_type": "code",
   "execution_count": 7,
   "id": "8e347bc1-e97a-465f-85f1-3bc40f62627d",
   "metadata": {
    "tags": []
   },
   "outputs": [],
   "source": [
    "from IPython.display import display, Markdown\n",
    "import joblib\n",
    "import numpy as np\n",
    "import pandas as pd\n",
    "\n",
    "from sklearn.pipeline import Pipeline\n",
    "from sklearn.impute import SimpleImputer\n",
    "from sklearn.preprocessing import StandardScaler, MinMaxScaler, OneHotEncoder, OrdinalEncoder, LabelEncoder\n",
    "from sklearn.compose import ColumnTransformer\n",
    "from sklearn.linear_model import LogisticRegression\n",
    "\n",
    "from sklearn.neighbors import KNeighborsClassifier\n",
    "from sklearn.model_selection import ShuffleSplit, GridSearchCV, KFold, cross_validate\n",
    "from sklearn.svm import SVC\n",
    "from sklearn.tree import DecisionTreeClassifier\n",
    "from sklearn.ensemble import RandomForestClassifier"
   ]
  },
  {
   "cell_type": "markdown",
   "id": "558b8012-5ca1-4ad9-8f41-d48b062eb1ed",
   "metadata": {},
   "source": [
    "## 1. Obtenção de dados"
   ]
  },
  {
   "cell_type": "code",
   "execution_count": 3,
   "id": "a40d85d7-d5fc-450c-98da-e122a4d0f018",
   "metadata": {
    "tags": []
   },
   "outputs": [
    {
     "data": {
      "text/html": [
       "<div>\n",
       "<style scoped>\n",
       "    .dataframe tbody tr th:only-of-type {\n",
       "        vertical-align: middle;\n",
       "    }\n",
       "\n",
       "    .dataframe tbody tr th {\n",
       "        vertical-align: top;\n",
       "    }\n",
       "\n",
       "    .dataframe thead th {\n",
       "        text-align: right;\n",
       "    }\n",
       "</style>\n",
       "<table border=\"1\" class=\"dataframe\">\n",
       "  <thead>\n",
       "    <tr style=\"text-align: right;\">\n",
       "      <th></th>\n",
       "      <th>variavel</th>\n",
       "      <th>descricao</th>\n",
       "      <th>tipo</th>\n",
       "      <th>subtipo</th>\n",
       "    </tr>\n",
       "  </thead>\n",
       "  <tbody>\n",
       "    <tr>\n",
       "      <th>0</th>\n",
       "      <td>age</td>\n",
       "      <td>Idade do paciente em anos.</td>\n",
       "      <td>quantitativa</td>\n",
       "      <td>contínua</td>\n",
       "    </tr>\n",
       "    <tr>\n",
       "      <th>1</th>\n",
       "      <td>sex</td>\n",
       "      <td>Sexo do paciente (1 = Masculino, 0 = Feminino).</td>\n",
       "      <td>qualitativa</td>\n",
       "      <td>nominal</td>\n",
       "    </tr>\n",
       "    <tr>\n",
       "      <th>2</th>\n",
       "      <td>chest pain type</td>\n",
       "      <td>Tipo de dor no peito (1: Angina típica, 2: Ang...</td>\n",
       "      <td>qualitativa</td>\n",
       "      <td>ordinal</td>\n",
       "    </tr>\n",
       "    <tr>\n",
       "      <th>3</th>\n",
       "      <td>resting bp s</td>\n",
       "      <td>Pressão arterial em repouso (em mm Hg).</td>\n",
       "      <td>quantitativa</td>\n",
       "      <td>contínua</td>\n",
       "    </tr>\n",
       "    <tr>\n",
       "      <th>4</th>\n",
       "      <td>cholesterol</td>\n",
       "      <td>Colesterol sérico em mg/dl.</td>\n",
       "      <td>quantitativa</td>\n",
       "      <td>contínua</td>\n",
       "    </tr>\n",
       "    <tr>\n",
       "      <th>5</th>\n",
       "      <td>fasting blood sugar</td>\n",
       "      <td>Açúcar no sangue em jejum &gt; 120 mg/dl (1 = Ver...</td>\n",
       "      <td>qualitativa</td>\n",
       "      <td>nominal</td>\n",
       "    </tr>\n",
       "    <tr>\n",
       "      <th>6</th>\n",
       "      <td>resting ecg</td>\n",
       "      <td>Resultados do eletrocardiograma em repouso (0:...</td>\n",
       "      <td>qualitativa</td>\n",
       "      <td>ordinal</td>\n",
       "    </tr>\n",
       "    <tr>\n",
       "      <th>7</th>\n",
       "      <td>max heart rate</td>\n",
       "      <td>Frequência cardíaca máxima alcançada.</td>\n",
       "      <td>quantitativa</td>\n",
       "      <td>contínua</td>\n",
       "    </tr>\n",
       "    <tr>\n",
       "      <th>8</th>\n",
       "      <td>exercise angina</td>\n",
       "      <td>Angina induzida por exercício (1 = Sim, 0 = Não).</td>\n",
       "      <td>qualitativa</td>\n",
       "      <td>nominal</td>\n",
       "    </tr>\n",
       "    <tr>\n",
       "      <th>9</th>\n",
       "      <td>oldpeak</td>\n",
       "      <td>Depressão do segmento ST induzida por exercíci...</td>\n",
       "      <td>quantitativa</td>\n",
       "      <td>contínua</td>\n",
       "    </tr>\n",
       "    <tr>\n",
       "      <th>10</th>\n",
       "      <td>ST slope</td>\n",
       "      <td>Inclinação do segmento ST durante o pico do ex...</td>\n",
       "      <td>qualitativa</td>\n",
       "      <td>ordinal</td>\n",
       "    </tr>\n",
       "    <tr>\n",
       "      <th>11</th>\n",
       "      <td>target</td>\n",
       "      <td>Diagnóstico de doença cardíaca (1 = Doença pre...</td>\n",
       "      <td>qualitativa</td>\n",
       "      <td>nominal</td>\n",
       "    </tr>\n",
       "  </tbody>\n",
       "</table>\n",
       "</div>"
      ],
      "text/plain": [
       "               variavel                                          descricao  \\\n",
       "0                   age                         Idade do paciente em anos.   \n",
       "1                   sex    Sexo do paciente (1 = Masculino, 0 = Feminino).   \n",
       "2       chest pain type  Tipo de dor no peito (1: Angina típica, 2: Ang...   \n",
       "3          resting bp s            Pressão arterial em repouso (em mm Hg).   \n",
       "4           cholesterol                        Colesterol sérico em mg/dl.   \n",
       "5   fasting blood sugar  Açúcar no sangue em jejum > 120 mg/dl (1 = Ver...   \n",
       "6           resting ecg  Resultados do eletrocardiograma em repouso (0:...   \n",
       "7        max heart rate              Frequência cardíaca máxima alcançada.   \n",
       "8       exercise angina  Angina induzida por exercício (1 = Sim, 0 = Não).   \n",
       "9               oldpeak  Depressão do segmento ST induzida por exercíci...   \n",
       "10             ST slope  Inclinação do segmento ST durante o pico do ex...   \n",
       "11               target  Diagnóstico de doença cardíaca (1 = Doença pre...   \n",
       "\n",
       "            tipo   subtipo  \n",
       "0   quantitativa  contínua  \n",
       "1    qualitativa   nominal  \n",
       "2    qualitativa   ordinal  \n",
       "3   quantitativa  contínua  \n",
       "4   quantitativa  contínua  \n",
       "5    qualitativa   nominal  \n",
       "6    qualitativa   ordinal  \n",
       "7   quantitativa  contínua  \n",
       "8    qualitativa   nominal  \n",
       "9   quantitativa  contínua  \n",
       "10   qualitativa   ordinal  \n",
       "11   qualitativa   nominal  "
      ]
     },
     "execution_count": 3,
     "metadata": {},
     "output_type": "execute_result"
    }
   ],
   "source": [
    "df = pd.read_csv(\"../data/raw/heart_statlog_cleveland_hungary_final.csv\")\n",
    "df_dict = pd.read_csv(\"../data/external/dictionary.csv\")\n",
    "df_dict"
   ]
  },
  {
   "cell_type": "markdown",
   "id": "a7255582-da81-46a3-b5fe-c5ed47b9c1ca",
   "metadata": {},
   "source": [
    "## 2. Preparação de dados"
   ]
  },
  {
   "cell_type": "code",
   "execution_count": 8,
   "id": "9271f7ae-1141-490b-8d43-6fcba1984942",
   "metadata": {
    "tags": []
   },
   "outputs": [],
   "source": [
    "nominal_columns = ['sex', 'chest pain type', 'fasting blood sugar', 'resting ecg', 'exercise angina', 'ST slope']\n",
    "continuous_columns = ['age', 'resting bp s', 'cholesterol', 'max heart rate', 'oldpeak']\n",
    "target_column = 'target'\n",
    "\n",
    "X = df.drop(columns=[target_column])\n",
    "y = df[target_column]"
   ]
  },
  {
   "cell_type": "code",
   "execution_count": 11,
   "id": "0aa646e1-64ba-4c10-a219-6174e277ccc7",
   "metadata": {
    "tags": []
   },
   "outputs": [],
   "source": [
    "#tratamento de dados discrepantes\n",
    "continuous_preprocessor = Pipeline(steps=[\n",
    "    ('missing', SimpleImputer(strategy='mean')),  \n",
    "    ('normalization', StandardScaler())  \n",
    "])\n",
    "\n",
    "preprocessor = ColumnTransformer(\n",
    "    transformers=[\n",
    "        ('nominal', nominal_preprocessor, nominal_columns),\n",
    "        ('continuous', continuous_preprocessor, continuous_columns)\n",
    "    ]\n",
    ")\n",
    "\n",
    "X_processed = preprocessor.fit_transform(X)"
   ]
  },
  {
   "cell_type": "markdown",
   "id": "50fabfdd-435b-4379-85c0-a13136486488",
   "metadata": {},
   "source": [
    "## 3. Seleção de modelos"
   ]
  },
  {
   "cell_type": "code",
   "execution_count": null,
   "id": "b50ba925-b2f8-4c9a-bc63-f3a4dd0ccf22",
   "metadata": {},
   "outputs": [],
   "source": []
  }
 ],
 "metadata": {
  "kernelspec": {
   "display_name": "Python 3 (ipykernel)",
   "language": "python",
   "name": "python3"
  },
  "language_info": {
   "codemirror_mode": {
    "name": "ipython",
    "version": 3
   },
   "file_extension": ".py",
   "mimetype": "text/x-python",
   "name": "python",
   "nbconvert_exporter": "python",
   "pygments_lexer": "ipython3",
   "version": "3.10.12"
  }
 },
 "nbformat": 4,
 "nbformat_minor": 5
}
