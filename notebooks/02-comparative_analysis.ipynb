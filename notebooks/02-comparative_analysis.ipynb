{
 "cells": [
  {
   "cell_type": "markdown",
   "id": "46da2b47-d881-4948-8365-b4fe880f52b7",
   "metadata": {},
   "source": [
    "## Tratamento de dados faltantes: \n",
    "\n",
    "Identificar e remover linhas/colunas com dados faltantes insignificantes. Imputar valores ausentes usando estatísticas de tendência central ou modelos preditivos."
   ]
  },
  {
   "cell_type": "code",
   "execution_count": null,
   "id": "fccc6fc6-59ef-405d-ad3f-7ff43f8ecf35",
   "metadata": {},
   "outputs": [],
   "source": []
  },
  {
   "cell_type": "markdown",
   "id": "64f2f25b-28fe-4548-a499-fd344a963aef",
   "metadata": {},
   "source": [
    "## Tratamento de dados discrepantes: \n",
    "\n",
    "remover ou isolar outliers dependendo do contexto."
   ]
  },
  {
   "cell_type": "code",
   "execution_count": null,
   "id": "48eae8bd-265a-4627-965f-d02ab555f37f",
   "metadata": {},
   "outputs": [],
   "source": []
  },
  {
   "cell_type": "markdown",
   "id": "d78012fc-9cdd-4e4a-9b1b-439a80218d2b",
   "metadata": {},
   "source": [
    "## Codificação de variáveis: \n",
    "\n",
    "efetuar toda e qualquer transformação necessária para o funcionamento do modelo, seja ela codificação de variáveis qualitativas (nominais ou ordinais), temporais ou textuais."
   ]
  },
  {
   "cell_type": "code",
   "execution_count": null,
   "id": "d3b94138-0f7b-4d80-bbd3-08b5d12edbef",
   "metadata": {},
   "outputs": [],
   "source": []
  },
  {
   "cell_type": "markdown",
   "id": "4f2d11e3-284c-4ac4-bfed-e4adfa6e082e",
   "metadata": {
    "tags": []
   },
   "source": [
    "## Normalização: \n",
    "\n",
    "inserir normalização de dados nas variáveis que forem necessárias."
   ]
  },
  {
   "cell_type": "code",
   "execution_count": null,
   "id": "f8c19a39-9f51-436e-98cd-4de69b62b73d",
   "metadata": {},
   "outputs": [],
   "source": []
  }
 ],
 "metadata": {
  "kernelspec": {
   "display_name": "Python 3 (ipykernel)",
   "language": "python",
   "name": "python3"
  },
  "language_info": {
   "codemirror_mode": {
    "name": "ipython",
    "version": 3
   },
   "file_extension": ".py",
   "mimetype": "text/x-python",
   "name": "python",
   "nbconvert_exporter": "python",
   "pygments_lexer": "ipython3",
   "version": "3.10.12"
  }
 },
 "nbformat": 4,
 "nbformat_minor": 5
}
