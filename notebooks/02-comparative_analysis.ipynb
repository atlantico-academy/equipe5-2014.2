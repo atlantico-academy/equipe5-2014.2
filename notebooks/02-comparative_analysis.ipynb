{
 "cells": [
  {
   "cell_type": "code",
   "execution_count": 3,
   "id": "6ea1661e-f0bf-4dab-a55a-c7f1649b99d5",
   "metadata": {
    "tags": []
   },
   "outputs": [],
   "source": [
    "import pandas as pd\n",
    "import numpy as np\n",
    "from sklearn.impute import SimpleImputer\n",
    "from sklearn.preprocessing import StandardScaler, MinMaxScaler, OneHotEncoder, LabelEncoder\n",
    "from scipy import stats"
   ]
  },
  {
   "cell_type": "code",
   "execution_count": 4,
   "id": "e91eea3f-7e5a-45d5-8a6e-037db37bf165",
   "metadata": {
    "tags": []
   },
   "outputs": [],
   "source": [
    "df = pd.read_csv('../data/raw/heart_statlog_cleveland_hungary_final.csv')"
   ]
  },
  {
   "cell_type": "markdown",
   "id": "46da2b47-d881-4948-8365-b4fe880f52b7",
   "metadata": {},
   "source": [
    "## 1. Tratamento de dados faltantes: \n",
    "\n",
    "Identificar e remover linhas/colunas com dados faltantes insignificantes. Imputar valores ausentes usando estatísticas de tendência central ou modelos preditivos."
   ]
  },
  {
   "cell_type": "code",
   "execution_count": 5,
   "id": "fccc6fc6-59ef-405d-ad3f-7ff43f8ecf35",
   "metadata": {},
   "outputs": [
    {
     "name": "stdout",
     "output_type": "stream",
     "text": [
      "Dados faltantes por coluna:\n",
      " age                    0\n",
      "sex                    0\n",
      "chest pain type        0\n",
      "resting bp s           0\n",
      "cholesterol            0\n",
      "fasting blood sugar    0\n",
      "resting ecg            0\n",
      "max heart rate         0\n",
      "exercise angina        0\n",
      "oldpeak                0\n",
      "ST slope               0\n",
      "target                 0\n",
      "dtype: int64\n"
     ]
    }
   ],
   "source": [
    "missing_data = df.isnull().sum()\n",
    "print(\"Dados faltantes por coluna:\\n\", missing_data)"
   ]
  },
  {
   "cell_type": "code",
   "execution_count": 16,
   "id": "df31c4b3-4cac-495c-8683-d2cd13b519e0",
   "metadata": {
    "tags": []
   },
   "outputs": [],
   "source": [
    "#Remover colunas com mais de 50% de valores faltantes\n",
    "df = df.dropna(thresh=df.shape[0]*0.5, axis=1)"
   ]
  },
  {
   "cell_type": "code",
   "execution_count": 17,
   "id": "8d033fc3-2903-444f-a005-ec736eb05293",
   "metadata": {
    "tags": []
   },
   "outputs": [],
   "source": [
    "# Imputar valores ausentes com a mediana (para colunas numéricas)\n",
    "imputer = SimpleImputer(strategy='median')\n",
    "df[df.columns] = imputer.fit_transform(df)"
   ]
  },
  {
   "cell_type": "markdown",
   "id": "64f2f25b-28fe-4548-a499-fd344a963aef",
   "metadata": {},
   "source": [
    "## 2. Tratamento de dados discrepantes: \n",
    "\n",
    "remover ou isolar outliers dependendo do contexto."
   ]
  },
  {
   "cell_type": "code",
   "execution_count": 8,
   "id": "48eae8bd-265a-4627-965f-d02ab555f37f",
   "metadata": {},
   "outputs": [],
   "source": [
    "# Identificar outliers usando o z-score\n",
    "z_scores = np.abs(stats.zscore(df))\n",
    "outliers = np.where(z_scores > 3)"
   ]
  },
  {
   "cell_type": "code",
   "execution_count": 9,
   "id": "92838040-6201-452c-8ac5-cfc53615edb2",
   "metadata": {
    "tags": []
   },
   "outputs": [],
   "source": [
    "# Remover outliers\n",
    "df = df[(z_scores < 3).all(axis=1)]"
   ]
  },
  {
   "cell_type": "markdown",
   "id": "d78012fc-9cdd-4e4a-9b1b-439a80218d2b",
   "metadata": {},
   "source": [
    "## 3. Codificação de variáveis: \n",
    "\n",
    "efetuar toda e qualquer transformação necessária para o funcionamento do modelo, seja ela codificação de variáveis qualitativas (nominais ou ordinais), temporais ou textuais."
   ]
  },
  {
   "cell_type": "code",
   "execution_count": 10,
   "id": "d3b94138-0f7b-4d80-bbd3-08b5d12edbef",
   "metadata": {},
   "outputs": [],
   "source": [
    "# Codificação de variáveis categóricas (exemplo usando One-Hot Encoding)\n",
    "categorical_cols = df.select_dtypes(include=['object']).columns\n",
    "df = pd.get_dummies(df, columns=categorical_cols, drop_first=True)"
   ]
  },
  {
   "cell_type": "code",
   "execution_count": 11,
   "id": "eab3201b-994d-4696-a745-b4dee4a11ce8",
   "metadata": {
    "tags": []
   },
   "outputs": [],
   "source": [
    "# Codificação de variáveis ordinais (exemplo usando Label Encoding)\n",
    "ordinal_cols = ['chest pain type', 'resting ecg', 'ST slope']\n",
    "label_encoders = {}\n",
    "for col in ordinal_cols:\n",
    "    le = LabelEncoder()\n",
    "    df[col] = le.fit_transform(df[col])\n",
    "    label_encoders[col] = le"
   ]
  },
  {
   "cell_type": "markdown",
   "id": "4f2d11e3-284c-4ac4-bfed-e4adfa6e082e",
   "metadata": {
    "tags": []
   },
   "source": [
    "## 4. Normalização: \n",
    "\n",
    "inserir normalização de dados nas variáveis que forem necessárias."
   ]
  },
  {
   "cell_type": "code",
   "execution_count": 12,
   "id": "f8c19a39-9f51-436e-98cd-4de69b62b73d",
   "metadata": {},
   "outputs": [],
   "source": [
    "# Normalizar variáveis (exemplo usando StandardScaler)\n",
    "scaler = StandardScaler()\n",
    "scaled_columns = ['age', 'resting bp s', 'cholesterol', 'max heart rate', 'oldpeak']\n",
    "df[scaled_columns] = scaler.fit_transform(df[scaled_columns])\n"
   ]
  },
  {
   "cell_type": "code",
   "execution_count": 13,
   "id": "c81674fc-c60f-4534-807f-64784b98dec3",
   "metadata": {
    "tags": []
   },
   "outputs": [],
   "source": [
    "# Alternativamente, para normalização entre 0 e 1\n",
    "# minmax_scaler = MinMaxScaler()\n",
    "# df[scaled_columns] = minmax_scaler.fit_transform(df[scaled_columns])\n"
   ]
  },
  {
   "cell_type": "code",
   "execution_count": 14,
   "id": "d8285c67-5c2f-468d-a664-a51b952dba0d",
   "metadata": {
    "tags": []
   },
   "outputs": [],
   "source": [
    "# Salvar o DataFrame tratado\n",
    "df.to_csv('../data/processed/heart_disease_cleaned.csv', index=False)"
   ]
  },
  {
   "cell_type": "code",
   "execution_count": 15,
   "id": "f1dd5055-5345-433b-9bbb-e34dcb780245",
   "metadata": {
    "tags": []
   },
   "outputs": [
    {
     "name": "stdout",
     "output_type": "stream",
     "text": [
      "Dados tratados com sucesso!\n"
     ]
    }
   ],
   "source": [
    "print(\"Dados tratados com sucesso!\")"
   ]
  }
 ],
 "metadata": {
  "kernelspec": {
   "display_name": "Python 3 (ipykernel)",
   "language": "python",
   "name": "python3"
  },
  "language_info": {
   "codemirror_mode": {
    "name": "ipython",
    "version": 3
   },
   "file_extension": ".py",
   "mimetype": "text/x-python",
   "name": "python",
   "nbconvert_exporter": "python",
   "pygments_lexer": "ipython3",
   "version": "3.10.12"
  }
 },
 "nbformat": 4,
 "nbformat_minor": 5
}
