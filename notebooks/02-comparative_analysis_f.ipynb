{
 "cells": [
  {
   "cell_type": "markdown",
   "metadata": {},
   "source": [
    "# Previsão de Doenças Cardíacas através de Aprendizado de Máquina\n",
    "\n",
    "Este projeto visa investigar a relação entre diversos atributos de pacientes e a presença de doenças cardíacas. Utilizando um conjunto de dados abrangente, exploraremos informações como idade, sexo, tipo de dor no peito, pressão arterial, colesterol e outros indicadores para construir modelos preditivos. O objetivo final é identificar os principais fatores de risco e auxiliar no diagnóstico precoce de doenças cardíacas, contribuindo para a prevenção e tratamento eficazes.\n",
    "Este relatório detalha o processo de análise dos dados, desde a exploração inicial até a construção e avaliação de modelos preditivos. Serão abordadas as etapas de pré-processamento dos dados, seleção de atributos, treinamento e comparação de diferentes algoritmos de aprendizado de máquina, com o objetivo de identificar o modelo mais eficaz para a previsão de doenças cardíacas.\n",
    "# Índice\n",
    "\n",
    "1. [Importar Bibliotecas e ajustar o Ambiente](#imp-lib)\n",
    "2. [Descrição dos Dados](#data-desc)\n",
    "3. [Carregando o Data Set](#data-load)\n",
    "4. [Limpeza e Pré Processamento de Dados](#data-prep)\n",
    "5. [Detecção e Remoção de Outliers](#data-out)\n",
    "6. [Treinamento e Divisão de Dados Para Teste](#data-train)\n",
    "7. [Validação Cruzada](#cross-val)\n",
    "8. [Construção de Modelo](#data-model)\n",
    "9. [Avaliação e Comparação de Modelos](#model-eval)\n",
    "10. [Seleção de Atributos](#model-atrib)\n",
    "11. [Avaliação de Modelos](#model-inter)\n",
    "12. [Conclusão](#data-conc)[Conclusão](#data-conc)\n"
   ]
  },
  {
   "cell_type": "markdown",
   "metadata": {},
   "source": [
    "## 1. **Importar Bibliotecas**<a id='imp-lib'></a>"
   ]
  },
  {
   "cell_type": "code",
   "execution_count": 58,
   "metadata": {
    "_cell_guid": "b1076dfc-b9ad-4769-8c92-a6c4dae69d19",
    "_uuid": "8f2839f25d086af736a60e9eeb907d3b93b6e0e5"
   },
   "outputs": [],
   "source": [
    "import warnings\n",
    "warnings.filterwarnings('ignore')\n",
    "\n",
    "# Manipulação de dados e pré-processamento\n",
    "import pandas as pd\n",
    "import numpy as np\n",
    "from sklearn.model_selection import train_test_split\n",
    "from sklearn.preprocessing import MinMaxScaler, StandardScaler\n",
    "from sklearn.preprocessing import LabelEncoder\n",
    "from scipy import stats\n",
    "\n",
    "# Visualização de dados\n",
    "import matplotlib.pyplot as plt\n",
    "import seaborn as sns\n",
    "%matplotlib inline\n",
    "\n",
    "# Seleção de modelo e validação\n",
    "from sklearn import model_selection\n",
    "from sklearn.model_selection import cross_val_score, StratifiedKFold, GridSearchCV\n",
    "from sklearn.metrics import (\n",
    "    log_loss, roc_auc_score, precision_score, f1_score, recall_score, roc_curve, auc,\n",
    "    classification_report, confusion_matrix, accuracy_score, fbeta_score, matthews_corrcoef\n",
    ")\n",
    "\n",
    "# Algoritmos de ML\n",
    "from sklearn.linear_model import LogisticRegression, SGDClassifier\n",
    "from sklearn.ensemble import (\n",
    "    RandomForestClassifier, VotingClassifier, AdaBoostClassifier, GradientBoostingClassifier, ExtraTreesClassifier\n",
    ")\n",
    "from sklearn.neural_network import MLPClassifier\n",
    "from sklearn.tree import DecisionTreeClassifier\n",
    "from sklearn.svm import SVC\n",
    "import xgboost as xgb\n",
    "from sklearn.discriminant_analysis import LinearDiscriminantAnalysis\n",
    "from sklearn.neighbors import KNeighborsClassifier\n",
    "from sklearn.naive_bayes import GaussianNB\n",
    "from sklearn.feature_selection import SelectKBest, chi2, RFE, SelectFromModel\n",
    "from sklearn.pipeline import Pipeline\n",
    "\n",
    "# Outras bibliotecas\n",
    "from sklearn.metrics import precision_recall_curve, average_precision_score\n",
    "from IPython.display import display, Image, HTML\n",
    "import xgboost as xgb\n",
    "import joblib"
   ]
  },
  {
   "cell_type": "markdown",
   "metadata": {},
   "source": [
    "## 2. **Descrição aprofundada dos Dados**<a id='data-desc'></a>\n",
    "\n",
    "\n",
    "O conjunto de dados contém 11 atributos que descrevem diferentes características de pacientes o objetivo é prever se o paciente tem ou não doença cardíaca. Abaixo está uma descrição detalhada de cada atributo:\n",
    "\n",
    "\n",
    "* `age`: Idade do paciente em anos.\n",
    "\n",
    "* `sex`: Sexo do paciente:\n",
    "    * 0 = Feminino\n",
    "    * 1 = Masculino\n",
    "    \n",
    "* `Chest Pain Type`: Tipo de dor no peito:\n",
    "    * 1 = Angina típica: dor no peito relacionada à diminuição do suprimento de sangue para o coração\n",
    "    * 2 = Angina atípica: dor no peito não relacionada ao coração\n",
    "    * 3 = Dor não anginosa: tipicamente espasmos esofágicos (não relacionados ao coração)\n",
    "    * 4 = Assintomática: dor no peito sem sinais de doença \n",
    "    \n",
    "* `Resting BP S`: Pressão arterial em repouso (em mmHg na admissão ao hospital).\n",
    "\n",
    "* `Cholesterol`: Colesterol sérico em mg/dL (colesterol sérico = LDL + HDL + 0.2 * triglicerídeos).\n",
    "    - Valores acima de 200 são motivo de preocupação.\n",
    "    \n",
    "* `Fasting Blood Sugar`: Açúcar no sangue em jejum > 120 mg/dL:\n",
    "    * 0 = Falso\n",
    "    * 1 = Verdadeiro\n",
    "    * Valores acima de 126 mg/dL indicam diabetes.\n",
    "    \n",
    "* `Resting ECG`: Resultados do eletrocardiograma em repouso:\n",
    "    * 0 = Normal\n",
    "    * 1 = Anormalidade da onda ST-T: pode variar de sintomas leves a problemas graves, sinaliza batimento cardíaco não normal\n",
    "    * 2 = Possível ou definida hipertrofia ventricular esquerda: aumento da principal câmara de bombeamento do coração\n",
    "    \n",
    "* `Max Heart Rate`: Frequência cardíaca máxima alcançada.\n",
    "\n",
    "* `Exercise Angina`: Angina induzida por exercício:\n",
    "    * 0 = Não\n",
    "    * 1 = Sim\n",
    "    \n",
    "* `Oldpeak`: Depressão do segmento ST induzida por exercício em relação ao repouso (observa o estresse do coração durante o exercício).\n",
    "    * Um coração doente se estressará mais.   \n",
    "    \n",
    "* `ST slope`: Inclinação do segmento ST no pico do exercício:\n",
    "    * 0 = Inclinada para cima: melhor frequência cardíaca com exercício (incomum)\n",
    "    * 1 = Plano: alteração mínima (coração saudável típico)\n",
    "    * 2 = Inclinada para baixo: sinais de coração doente\n",
    "\n",
    "\n",
    "* `Target`: Presença ou ausência de doença cardíaca:\n",
    "    * 0 = Não\n",
    "    * 1 = Sim"
   ]
  },
  {
   "cell_type": "markdown",
   "metadata": {},
   "source": [
    "## Dicionário dos Dados"
   ]
  },
  {
   "cell_type": "code",
   "execution_count": 2,
   "metadata": {
    "tags": []
   },
   "outputs": [
    {
     "data": {
      "text/html": [
       "<table border=\"1\" class=\"dataframe\">\n",
       "  <thead>\n",
       "    <tr style=\"text-align: right;\">\n",
       "      <th>variavel</th>\n",
       "      <th>descricao</th>\n",
       "      <th>tipo</th>\n",
       "      <th>subtipo</th>\n",
       "    </tr>\n",
       "  </thead>\n",
       "  <tbody>\n",
       "    <tr>\n",
       "      <td>age</td>\n",
       "      <td>Idade do paciente em anos.</td>\n",
       "      <td>quantitativa</td>\n",
       "      <td>contínua</td>\n",
       "    </tr>\n",
       "    <tr>\n",
       "      <td>sex</td>\n",
       "      <td>Sexo do paciente (1 = Masculino, 0 = Feminino).</td>\n",
       "      <td>qualitativa</td>\n",
       "      <td>nominal</td>\n",
       "    </tr>\n",
       "    <tr>\n",
       "      <td>chest pain type</td>\n",
       "      <td>Tipo de dor no peito (1: Angina típica, 2: Angina atípica, 3: Dor não anginosa, 4: Assintomático).</td>\n",
       "      <td>qualitativa</td>\n",
       "      <td>ordinal</td>\n",
       "    </tr>\n",
       "    <tr>\n",
       "      <td>resting bp s</td>\n",
       "      <td>Pressão arterial em repouso (em mm Hg).</td>\n",
       "      <td>quantitativa</td>\n",
       "      <td>contínua</td>\n",
       "    </tr>\n",
       "    <tr>\n",
       "      <td>cholesterol</td>\n",
       "      <td>Colesterol sérico em mg/dl.</td>\n",
       "      <td>quantitativa</td>\n",
       "      <td>contínua</td>\n",
       "    </tr>\n",
       "    <tr>\n",
       "      <td>fasting blood sugar</td>\n",
       "      <td>Açúcar no sangue em jejum &gt; 120 mg/dl (1 = Verdadeiro; 0 = Falso).</td>\n",
       "      <td>qualitativa</td>\n",
       "      <td>nominal</td>\n",
       "    </tr>\n",
       "    <tr>\n",
       "      <td>resting ecg</td>\n",
       "      <td>Resultados do eletrocardiograma em repouso (0: Normal, 1: Anormalidade da onda ST-T, 2: Hipertrofia ventricular esquerda).</td>\n",
       "      <td>qualitativa</td>\n",
       "      <td>ordinal</td>\n",
       "    </tr>\n",
       "    <tr>\n",
       "      <td>max heart rate</td>\n",
       "      <td>Frequência cardíaca máxima alcançada.</td>\n",
       "      <td>quantitativa</td>\n",
       "      <td>contínua</td>\n",
       "    </tr>\n",
       "    <tr>\n",
       "      <td>exercise angina</td>\n",
       "      <td>Angina induzida por exercício (1 = Sim, 0 = Não).</td>\n",
       "      <td>qualitativa</td>\n",
       "      <td>nominal</td>\n",
       "    </tr>\n",
       "    <tr>\n",
       "      <td>oldpeak</td>\n",
       "      <td>Depressão do segmento ST induzida por exercício em relação ao repouso.</td>\n",
       "      <td>quantitativa</td>\n",
       "      <td>contínua</td>\n",
       "    </tr>\n",
       "    <tr>\n",
       "      <td>ST slope</td>\n",
       "      <td>Inclinação do segmento ST durante o pico do exercício (1: Ascendente, 2: Plana, 3: Descendente).</td>\n",
       "      <td>qualitativa</td>\n",
       "      <td>ordinal</td>\n",
       "    </tr>\n",
       "    <tr>\n",
       "      <td>target</td>\n",
       "      <td>Diagnóstico de doença cardíaca (1 = Doença presente, 0 = Ausente).</td>\n",
       "      <td>qualitativa</td>\n",
       "      <td>nominal</td>\n",
       "    </tr>\n",
       "  </tbody>\n",
       "</table>"
      ],
      "text/plain": [
       "<IPython.core.display.HTML object>"
      ]
     },
     "metadata": {},
     "output_type": "display_data"
    }
   ],
   "source": [
    "pd.set_option('display.max_rows', None)\n",
    "dicionario = pd.read_csv(\"../data/external/dictionary.csv\")\n",
    "display(HTML(dicionario.to_html(index=False)))"
   ]
  },
  {
   "cell_type": "markdown",
   "metadata": {},
   "source": [
    "## 3. **Loading Dataset**<a id='data-load'></a>"
   ]
  },
  {
   "cell_type": "code",
   "execution_count": 3,
   "metadata": {},
   "outputs": [
    {
     "data": {
      "text/html": [
       "<div>\n",
       "<style scoped>\n",
       "    .dataframe tbody tr th:only-of-type {\n",
       "        vertical-align: middle;\n",
       "    }\n",
       "\n",
       "    .dataframe tbody tr th {\n",
       "        vertical-align: top;\n",
       "    }\n",
       "\n",
       "    .dataframe thead th {\n",
       "        text-align: right;\n",
       "    }\n",
       "</style>\n",
       "<table border=\"1\" class=\"dataframe\">\n",
       "  <thead>\n",
       "    <tr style=\"text-align: right;\">\n",
       "      <th></th>\n",
       "      <th>age</th>\n",
       "      <th>sex</th>\n",
       "      <th>chest pain type</th>\n",
       "      <th>resting bp s</th>\n",
       "      <th>cholesterol</th>\n",
       "      <th>fasting blood sugar</th>\n",
       "      <th>resting ecg</th>\n",
       "      <th>max heart rate</th>\n",
       "      <th>exercise angina</th>\n",
       "      <th>oldpeak</th>\n",
       "      <th>ST slope</th>\n",
       "      <th>target</th>\n",
       "    </tr>\n",
       "  </thead>\n",
       "  <tbody>\n",
       "    <tr>\n",
       "      <th>0</th>\n",
       "      <td>40</td>\n",
       "      <td>1</td>\n",
       "      <td>2</td>\n",
       "      <td>140</td>\n",
       "      <td>289</td>\n",
       "      <td>0</td>\n",
       "      <td>0</td>\n",
       "      <td>172</td>\n",
       "      <td>0</td>\n",
       "      <td>0.0</td>\n",
       "      <td>1</td>\n",
       "      <td>0</td>\n",
       "    </tr>\n",
       "    <tr>\n",
       "      <th>1</th>\n",
       "      <td>49</td>\n",
       "      <td>0</td>\n",
       "      <td>3</td>\n",
       "      <td>160</td>\n",
       "      <td>180</td>\n",
       "      <td>0</td>\n",
       "      <td>0</td>\n",
       "      <td>156</td>\n",
       "      <td>0</td>\n",
       "      <td>1.0</td>\n",
       "      <td>2</td>\n",
       "      <td>1</td>\n",
       "    </tr>\n",
       "    <tr>\n",
       "      <th>2</th>\n",
       "      <td>37</td>\n",
       "      <td>1</td>\n",
       "      <td>2</td>\n",
       "      <td>130</td>\n",
       "      <td>283</td>\n",
       "      <td>0</td>\n",
       "      <td>1</td>\n",
       "      <td>98</td>\n",
       "      <td>0</td>\n",
       "      <td>0.0</td>\n",
       "      <td>1</td>\n",
       "      <td>0</td>\n",
       "    </tr>\n",
       "    <tr>\n",
       "      <th>3</th>\n",
       "      <td>48</td>\n",
       "      <td>0</td>\n",
       "      <td>4</td>\n",
       "      <td>138</td>\n",
       "      <td>214</td>\n",
       "      <td>0</td>\n",
       "      <td>0</td>\n",
       "      <td>108</td>\n",
       "      <td>1</td>\n",
       "      <td>1.5</td>\n",
       "      <td>2</td>\n",
       "      <td>1</td>\n",
       "    </tr>\n",
       "    <tr>\n",
       "      <th>4</th>\n",
       "      <td>54</td>\n",
       "      <td>1</td>\n",
       "      <td>3</td>\n",
       "      <td>150</td>\n",
       "      <td>195</td>\n",
       "      <td>0</td>\n",
       "      <td>0</td>\n",
       "      <td>122</td>\n",
       "      <td>0</td>\n",
       "      <td>0.0</td>\n",
       "      <td>1</td>\n",
       "      <td>0</td>\n",
       "    </tr>\n",
       "  </tbody>\n",
       "</table>\n",
       "</div>"
      ],
      "text/plain": [
       "   age  sex  chest pain type  resting bp s  cholesterol  fasting blood sugar  \\\n",
       "0   40    1                2           140          289                    0   \n",
       "1   49    0                3           160          180                    0   \n",
       "2   37    1                2           130          283                    0   \n",
       "3   48    0                4           138          214                    0   \n",
       "4   54    1                3           150          195                    0   \n",
       "\n",
       "   resting ecg  max heart rate  exercise angina  oldpeak  ST slope  target  \n",
       "0            0             172                0      0.0         1       0  \n",
       "1            0             156                0      1.0         2       1  \n",
       "2            1              98                0      0.0         1       0  \n",
       "3            0             108                1      1.5         2       1  \n",
       "4            0             122                0      0.0         1       0  "
      ]
     },
     "execution_count": 3,
     "metadata": {},
     "output_type": "execute_result"
    }
   ],
   "source": [
    "dt = pd.read_csv('../data/raw/heart_statlog_cleveland_hungary_final.csv')\n",
    "dt.head()"
   ]
  },
  {
   "cell_type": "markdown",
   "metadata": {},
   "source": [
    "* A análise do conjunto de dados indica a necessidade de codificar características nominais para representar suas categorias. A próxima etapa envolve a aplicação dessa codificação, mapeando cada característica à sua categoria correspondente, conforme a descrição do conjunto de dados."
   ]
  },
  {
   "cell_type": "markdown",
   "metadata": {},
   "source": [
    "## 4. **Limpeza e Pré Processamento de Dados** <a id='data-prep'></a>\n",
    "\n",
    "* Nesta seção, será realizada a limpeza e o pré-processamento dos dados. Isso inclui a padronização dos nomes das colunas, a codificação de variáveis categóricas e a verificação e tratamento de valores ausentes e outliers."
   ]
  },
  {
   "cell_type": "code",
   "execution_count": 4,
   "metadata": {},
   "outputs": [],
   "source": [
    "dt.columns = ['age', 'sex', 'chest_pain_type', 'resting_blood_pressure', 'cholesterol', 'fasting_blood_sugar', 'rest_ecg', 'max_heart_rate_achieved',\n",
    "       'exercise_induced_angina', 'st_depression', 'st_slope','target']"
   ]
  },
  {
   "cell_type": "code",
   "execution_count": 5,
   "metadata": {},
   "outputs": [],
   "source": [
    "# converting features to categorical features \n",
    "\n",
    "dt['chest_pain_type'][dt['chest_pain_type'] == 1] = 'angina típica'\n",
    "dt['chest_pain_type'][dt['chest_pain_type'] == 2] = 'angina atipica'\n",
    "dt['chest_pain_type'][dt['chest_pain_type'] == 3] = 'dor não anginosa'\n",
    "dt['chest_pain_type'][dt['chest_pain_type'] == 4] = 'assintomático'\n",
    "\n",
    "\n",
    "\n",
    "dt['rest_ecg'][dt['rest_ecg'] == 0] = 'normal'\n",
    "dt['rest_ecg'][dt['rest_ecg'] == 1] = 'anormalidade da onda ST'\n",
    "dt['rest_ecg'][dt['rest_ecg'] == 2] = 'hipertrofia ventricular esquerda'\n",
    "\n",
    "\n",
    "\n",
    "dt['st_slope'][dt['st_slope'] == 1] = 'cima'\n",
    "dt['st_slope'][dt['st_slope'] == 2] = 'plana'\n",
    "dt['st_slope'][dt['st_slope'] == 3] = 'baixo'\n",
    "\n",
    "dt[\"sex\"] = dt.sex.apply(lambda  x:'masculino' if x==1 else 'feminino')"
   ]
  },
  {
   "cell_type": "code",
   "execution_count": 6,
   "metadata": {},
   "outputs": [
    {
     "data": {
      "text/plain": [
       "assintomático       625\n",
       "dor não anginosa    283\n",
       "angina atipica      216\n",
       "angina típica        66\n",
       "Name: chest_pain_type, dtype: int64"
      ]
     },
     "execution_count": 6,
     "metadata": {},
     "output_type": "execute_result"
    }
   ],
   "source": [
    "dt['chest_pain_type'].value_counts()"
   ]
  },
  {
   "cell_type": "code",
   "execution_count": 7,
   "metadata": {},
   "outputs": [
    {
     "data": {
      "text/plain": [
       "normal                              684\n",
       "hipertrofia ventricular esquerda    325\n",
       "anormalidade da onda ST             181\n",
       "Name: rest_ecg, dtype: int64"
      ]
     },
     "execution_count": 7,
     "metadata": {},
     "output_type": "execute_result"
    }
   ],
   "source": [
    "dt['rest_ecg'].value_counts()"
   ]
  },
  {
   "cell_type": "code",
   "execution_count": 8,
   "metadata": {},
   "outputs": [
    {
     "data": {
      "text/plain": [
       "plana    582\n",
       "cima     526\n",
       "baixo     81\n",
       "0          1\n",
       "Name: st_slope, dtype: int64"
      ]
     },
     "execution_count": 8,
     "metadata": {},
     "output_type": "execute_result"
    }
   ],
   "source": [
    "dt['st_slope'].value_counts()"
   ]
  },
  {
   "cell_type": "code",
   "execution_count": 9,
   "metadata": {},
   "outputs": [
    {
     "data": {
      "text/plain": [
       "plana    582\n",
       "cima     526\n",
       "baixo     81\n",
       "Name: st_slope, dtype: int64"
      ]
     },
     "execution_count": 9,
     "metadata": {},
     "output_type": "execute_result"
    }
   ],
   "source": [
    "#removendo linha com st_slope=0\n",
    "dt.drop(dt[dt.st_slope ==0].index, inplace=True)\n",
    "dt['st_slope'].value_counts()"
   ]
  },
  {
   "cell_type": "markdown",
   "metadata": {},
   "source": [
    "* Foi identificada uma inconsistência na variável st_slope, onde um valor igual a 0 estava presente. Como esse valor não se encaixa nas categorias esperadas, optou-se por remover a linha correspondente para garantir a integridade dos dados."
   ]
  },
  {
   "cell_type": "code",
   "execution_count": 10,
   "metadata": {},
   "outputs": [
    {
     "data": {
      "text/html": [
       "<div>\n",
       "<style scoped>\n",
       "    .dataframe tbody tr th:only-of-type {\n",
       "        vertical-align: middle;\n",
       "    }\n",
       "\n",
       "    .dataframe tbody tr th {\n",
       "        vertical-align: top;\n",
       "    }\n",
       "\n",
       "    .dataframe thead th {\n",
       "        text-align: right;\n",
       "    }\n",
       "</style>\n",
       "<table border=\"1\" class=\"dataframe\">\n",
       "  <thead>\n",
       "    <tr style=\"text-align: right;\">\n",
       "      <th></th>\n",
       "      <th>age</th>\n",
       "      <th>sex</th>\n",
       "      <th>chest_pain_type</th>\n",
       "      <th>resting_blood_pressure</th>\n",
       "      <th>cholesterol</th>\n",
       "      <th>fasting_blood_sugar</th>\n",
       "      <th>rest_ecg</th>\n",
       "      <th>max_heart_rate_achieved</th>\n",
       "      <th>exercise_induced_angina</th>\n",
       "      <th>st_depression</th>\n",
       "      <th>st_slope</th>\n",
       "      <th>target</th>\n",
       "    </tr>\n",
       "  </thead>\n",
       "  <tbody>\n",
       "    <tr>\n",
       "      <th>0</th>\n",
       "      <td>40</td>\n",
       "      <td>masculino</td>\n",
       "      <td>angina atipica</td>\n",
       "      <td>140</td>\n",
       "      <td>289</td>\n",
       "      <td>0</td>\n",
       "      <td>normal</td>\n",
       "      <td>172</td>\n",
       "      <td>0</td>\n",
       "      <td>0.0</td>\n",
       "      <td>cima</td>\n",
       "      <td>0</td>\n",
       "    </tr>\n",
       "    <tr>\n",
       "      <th>1</th>\n",
       "      <td>49</td>\n",
       "      <td>feminino</td>\n",
       "      <td>dor não anginosa</td>\n",
       "      <td>160</td>\n",
       "      <td>180</td>\n",
       "      <td>0</td>\n",
       "      <td>normal</td>\n",
       "      <td>156</td>\n",
       "      <td>0</td>\n",
       "      <td>1.0</td>\n",
       "      <td>plana</td>\n",
       "      <td>1</td>\n",
       "    </tr>\n",
       "    <tr>\n",
       "      <th>2</th>\n",
       "      <td>37</td>\n",
       "      <td>masculino</td>\n",
       "      <td>angina atipica</td>\n",
       "      <td>130</td>\n",
       "      <td>283</td>\n",
       "      <td>0</td>\n",
       "      <td>anormalidade da onda ST</td>\n",
       "      <td>98</td>\n",
       "      <td>0</td>\n",
       "      <td>0.0</td>\n",
       "      <td>cima</td>\n",
       "      <td>0</td>\n",
       "    </tr>\n",
       "    <tr>\n",
       "      <th>3</th>\n",
       "      <td>48</td>\n",
       "      <td>feminino</td>\n",
       "      <td>assintomático</td>\n",
       "      <td>138</td>\n",
       "      <td>214</td>\n",
       "      <td>0</td>\n",
       "      <td>normal</td>\n",
       "      <td>108</td>\n",
       "      <td>1</td>\n",
       "      <td>1.5</td>\n",
       "      <td>plana</td>\n",
       "      <td>1</td>\n",
       "    </tr>\n",
       "    <tr>\n",
       "      <th>4</th>\n",
       "      <td>54</td>\n",
       "      <td>masculino</td>\n",
       "      <td>dor não anginosa</td>\n",
       "      <td>150</td>\n",
       "      <td>195</td>\n",
       "      <td>0</td>\n",
       "      <td>normal</td>\n",
       "      <td>122</td>\n",
       "      <td>0</td>\n",
       "      <td>0.0</td>\n",
       "      <td>cima</td>\n",
       "      <td>0</td>\n",
       "    </tr>\n",
       "  </tbody>\n",
       "</table>\n",
       "</div>"
      ],
      "text/plain": [
       "   age        sex   chest_pain_type  resting_blood_pressure  cholesterol  \\\n",
       "0   40  masculino    angina atipica                     140          289   \n",
       "1   49   feminino  dor não anginosa                     160          180   \n",
       "2   37  masculino    angina atipica                     130          283   \n",
       "3   48   feminino     assintomático                     138          214   \n",
       "4   54  masculino  dor não anginosa                     150          195   \n",
       "\n",
       "   fasting_blood_sugar                 rest_ecg  max_heart_rate_achieved  \\\n",
       "0                    0                   normal                      172   \n",
       "1                    0                   normal                      156   \n",
       "2                    0  anormalidade da onda ST                       98   \n",
       "3                    0                   normal                      108   \n",
       "4                    0                   normal                      122   \n",
       "\n",
       "   exercise_induced_angina  st_depression st_slope  target  \n",
       "0                        0            0.0     cima       0  \n",
       "1                        0            1.0    plana       1  \n",
       "2                        0            0.0     cima       0  \n",
       "3                        1            1.5    plana       1  \n",
       "4                        0            0.0     cima       0  "
      ]
     },
     "execution_count": 10,
     "metadata": {},
     "output_type": "execute_result"
    }
   ],
   "source": [
    "dt.head()"
   ]
  },
  {
   "cell_type": "markdown",
   "metadata": {},
   "source": [
    "### Checando se existem dados faltantes"
   ]
  },
  {
   "cell_type": "code",
   "execution_count": 11,
   "metadata": {},
   "outputs": [
    {
     "data": {
      "text/plain": [
       "age                        0\n",
       "sex                        0\n",
       "chest_pain_type            0\n",
       "resting_blood_pressure     0\n",
       "cholesterol                0\n",
       "fasting_blood_sugar        0\n",
       "rest_ecg                   0\n",
       "max_heart_rate_achieved    0\n",
       "exercise_induced_angina    0\n",
       "st_depression              0\n",
       "st_slope                   0\n",
       "target                     0\n",
       "dtype: int64"
      ]
     },
     "execution_count": 11,
     "metadata": {},
     "output_type": "execute_result"
    }
   ],
   "source": [
    "## Checando dados faltantes\n",
    "dt.isna().sum()"
   ]
  },
  {
   "cell_type": "markdown",
   "metadata": {},
   "source": [
    "Não existem dados faltantes."
   ]
  },
  {
   "cell_type": "code",
   "execution_count": 12,
   "metadata": {},
   "outputs": [
    {
     "data": {
      "text/plain": [
       "(1189, 12)"
      ]
     },
     "execution_count": 12,
     "metadata": {},
     "output_type": "execute_result"
    }
   ],
   "source": [
    "dt.shape"
   ]
  },
  {
   "cell_type": "markdown",
   "metadata": {},
   "source": [
    "* Há um total de 1189 registros e 11 características, com 1 variável alvo. A seguir, será verificado o resumo das características numéricas e categóricas. há um total de 1189 registros e 11 características, com 1 variável alvo. A seguir, será verificado o resumo das características numéricas e categóricas."
   ]
  },
  {
   "cell_type": "code",
   "execution_count": 13,
   "metadata": {},
   "outputs": [
    {
     "data": {
      "text/html": [
       "<div>\n",
       "<style scoped>\n",
       "    .dataframe tbody tr th:only-of-type {\n",
       "        vertical-align: middle;\n",
       "    }\n",
       "\n",
       "    .dataframe tbody tr th {\n",
       "        vertical-align: top;\n",
       "    }\n",
       "\n",
       "    .dataframe thead th {\n",
       "        text-align: right;\n",
       "    }\n",
       "</style>\n",
       "<table border=\"1\" class=\"dataframe\">\n",
       "  <thead>\n",
       "    <tr style=\"text-align: right;\">\n",
       "      <th></th>\n",
       "      <th>age</th>\n",
       "      <th>resting_blood_pressure</th>\n",
       "      <th>cholesterol</th>\n",
       "      <th>fasting_blood_sugar</th>\n",
       "      <th>max_heart_rate_achieved</th>\n",
       "      <th>exercise_induced_angina</th>\n",
       "      <th>st_depression</th>\n",
       "      <th>target</th>\n",
       "    </tr>\n",
       "  </thead>\n",
       "  <tbody>\n",
       "    <tr>\n",
       "      <th>count</th>\n",
       "      <td>1189.000000</td>\n",
       "      <td>1189.000000</td>\n",
       "      <td>1189.000000</td>\n",
       "      <td>1189.000000</td>\n",
       "      <td>1189.000000</td>\n",
       "      <td>1189.000000</td>\n",
       "      <td>1189.000000</td>\n",
       "      <td>1189.000000</td>\n",
       "    </tr>\n",
       "    <tr>\n",
       "      <th>mean</th>\n",
       "      <td>53.708158</td>\n",
       "      <td>132.138772</td>\n",
       "      <td>210.376787</td>\n",
       "      <td>0.212784</td>\n",
       "      <td>139.739277</td>\n",
       "      <td>0.387721</td>\n",
       "      <td>0.923549</td>\n",
       "      <td>0.528175</td>\n",
       "    </tr>\n",
       "    <tr>\n",
       "      <th>std</th>\n",
       "      <td>9.352961</td>\n",
       "      <td>18.369251</td>\n",
       "      <td>101.462185</td>\n",
       "      <td>0.409448</td>\n",
       "      <td>25.527386</td>\n",
       "      <td>0.487435</td>\n",
       "      <td>1.086464</td>\n",
       "      <td>0.499416</td>\n",
       "    </tr>\n",
       "    <tr>\n",
       "      <th>min</th>\n",
       "      <td>28.000000</td>\n",
       "      <td>0.000000</td>\n",
       "      <td>0.000000</td>\n",
       "      <td>0.000000</td>\n",
       "      <td>60.000000</td>\n",
       "      <td>0.000000</td>\n",
       "      <td>-2.600000</td>\n",
       "      <td>0.000000</td>\n",
       "    </tr>\n",
       "    <tr>\n",
       "      <th>25%</th>\n",
       "      <td>47.000000</td>\n",
       "      <td>120.000000</td>\n",
       "      <td>188.000000</td>\n",
       "      <td>0.000000</td>\n",
       "      <td>121.000000</td>\n",
       "      <td>0.000000</td>\n",
       "      <td>0.000000</td>\n",
       "      <td>0.000000</td>\n",
       "    </tr>\n",
       "    <tr>\n",
       "      <th>50%</th>\n",
       "      <td>54.000000</td>\n",
       "      <td>130.000000</td>\n",
       "      <td>229.000000</td>\n",
       "      <td>0.000000</td>\n",
       "      <td>141.000000</td>\n",
       "      <td>0.000000</td>\n",
       "      <td>0.600000</td>\n",
       "      <td>1.000000</td>\n",
       "    </tr>\n",
       "    <tr>\n",
       "      <th>75%</th>\n",
       "      <td>60.000000</td>\n",
       "      <td>140.000000</td>\n",
       "      <td>270.000000</td>\n",
       "      <td>0.000000</td>\n",
       "      <td>160.000000</td>\n",
       "      <td>1.000000</td>\n",
       "      <td>1.600000</td>\n",
       "      <td>1.000000</td>\n",
       "    </tr>\n",
       "    <tr>\n",
       "      <th>max</th>\n",
       "      <td>77.000000</td>\n",
       "      <td>200.000000</td>\n",
       "      <td>603.000000</td>\n",
       "      <td>1.000000</td>\n",
       "      <td>202.000000</td>\n",
       "      <td>1.000000</td>\n",
       "      <td>6.200000</td>\n",
       "      <td>1.000000</td>\n",
       "    </tr>\n",
       "  </tbody>\n",
       "</table>\n",
       "</div>"
      ],
      "text/plain": [
       "               age  resting_blood_pressure  cholesterol  fasting_blood_sugar  \\\n",
       "count  1189.000000             1189.000000  1189.000000          1189.000000   \n",
       "mean     53.708158              132.138772   210.376787             0.212784   \n",
       "std       9.352961               18.369251   101.462185             0.409448   \n",
       "min      28.000000                0.000000     0.000000             0.000000   \n",
       "25%      47.000000              120.000000   188.000000             0.000000   \n",
       "50%      54.000000              130.000000   229.000000             0.000000   \n",
       "75%      60.000000              140.000000   270.000000             0.000000   \n",
       "max      77.000000              200.000000   603.000000             1.000000   \n",
       "\n",
       "       max_heart_rate_achieved  exercise_induced_angina  st_depression  \\\n",
       "count              1189.000000              1189.000000    1189.000000   \n",
       "mean                139.739277                 0.387721       0.923549   \n",
       "std                  25.527386                 0.487435       1.086464   \n",
       "min                  60.000000                 0.000000      -2.600000   \n",
       "25%                 121.000000                 0.000000       0.000000   \n",
       "50%                 141.000000                 0.000000       0.600000   \n",
       "75%                 160.000000                 1.000000       1.600000   \n",
       "max                 202.000000                 1.000000       6.200000   \n",
       "\n",
       "            target  \n",
       "count  1189.000000  \n",
       "mean      0.528175  \n",
       "std       0.499416  \n",
       "min       0.000000  \n",
       "25%       0.000000  \n",
       "50%       1.000000  \n",
       "75%       1.000000  \n",
       "max       1.000000  "
      ]
     },
     "execution_count": 13,
     "metadata": {},
     "output_type": "execute_result"
    }
   ],
   "source": [
    "dt.describe(include =[np.number])"
   ]
  },
  {
   "cell_type": "markdown",
   "metadata": {},
   "source": [
    "* A análise mostra outliers em `resting_blood_pressure` (mínimo 0) e `cholestrol` (mínimo 0, máximo 603)."
   ]
  },
  {
   "cell_type": "code",
   "execution_count": 14,
   "metadata": {},
   "outputs": [
    {
     "data": {
      "text/html": [
       "<div>\n",
       "<style scoped>\n",
       "    .dataframe tbody tr th:only-of-type {\n",
       "        vertical-align: middle;\n",
       "    }\n",
       "\n",
       "    .dataframe tbody tr th {\n",
       "        vertical-align: top;\n",
       "    }\n",
       "\n",
       "    .dataframe thead th {\n",
       "        text-align: right;\n",
       "    }\n",
       "</style>\n",
       "<table border=\"1\" class=\"dataframe\">\n",
       "  <thead>\n",
       "    <tr style=\"text-align: right;\">\n",
       "      <th></th>\n",
       "      <th>sex</th>\n",
       "      <th>chest_pain_type</th>\n",
       "      <th>rest_ecg</th>\n",
       "      <th>st_slope</th>\n",
       "    </tr>\n",
       "  </thead>\n",
       "  <tbody>\n",
       "    <tr>\n",
       "      <th>count</th>\n",
       "      <td>1189</td>\n",
       "      <td>1189</td>\n",
       "      <td>1189</td>\n",
       "      <td>1189</td>\n",
       "    </tr>\n",
       "    <tr>\n",
       "      <th>unique</th>\n",
       "      <td>2</td>\n",
       "      <td>4</td>\n",
       "      <td>3</td>\n",
       "      <td>3</td>\n",
       "    </tr>\n",
       "    <tr>\n",
       "      <th>top</th>\n",
       "      <td>masculino</td>\n",
       "      <td>assintomático</td>\n",
       "      <td>normal</td>\n",
       "      <td>plana</td>\n",
       "    </tr>\n",
       "    <tr>\n",
       "      <th>freq</th>\n",
       "      <td>908</td>\n",
       "      <td>625</td>\n",
       "      <td>683</td>\n",
       "      <td>582</td>\n",
       "    </tr>\n",
       "  </tbody>\n",
       "</table>\n",
       "</div>"
      ],
      "text/plain": [
       "              sex chest_pain_type rest_ecg st_slope\n",
       "count        1189            1189     1189     1189\n",
       "unique          2               4        3        3\n",
       "top     masculino   assintomático   normal    plana\n",
       "freq          908             625      683      582"
      ]
     },
     "execution_count": 14,
     "metadata": {},
     "output_type": "execute_result"
    }
   ],
   "source": [
    "dt.describe(include =[object])"
   ]
  },
  {
   "cell_type": "markdown",
   "metadata": {},
   "source": [
    "## 5. **Detecção e Remoção de Outliers** <a id='data-out'></a>\n",
    "\n",
    "* Nesta etapa, serão identificados e removidos outliers presentes nas variáveis numéricas. O método do Z-score será utilizado para detectar valores extremos que possam distorcer a análise e o desempenho dos modelos."
   ]
  },
  {
   "cell_type": "code",
   "execution_count": 15,
   "metadata": {},
   "outputs": [],
   "source": [
    "# Filtrando características numéricas. Idade, pressão arterial em repouso, colesterol e frequência cardíaca máxima atingida apresentam outliers, conforme a Análise Exploratória de Dados (EDA).\n",
    "\n",
    "dt_numericas = dt[['age','resting_blood_pressure','cholesterol','max_heart_rate_achieved']]"
   ]
  },
  {
   "cell_type": "code",
   "execution_count": 16,
   "metadata": {},
   "outputs": [
    {
     "data": {
      "text/html": [
       "<div>\n",
       "<style scoped>\n",
       "    .dataframe tbody tr th:only-of-type {\n",
       "        vertical-align: middle;\n",
       "    }\n",
       "\n",
       "    .dataframe tbody tr th {\n",
       "        vertical-align: top;\n",
       "    }\n",
       "\n",
       "    .dataframe thead th {\n",
       "        text-align: right;\n",
       "    }\n",
       "</style>\n",
       "<table border=\"1\" class=\"dataframe\">\n",
       "  <thead>\n",
       "    <tr style=\"text-align: right;\">\n",
       "      <th></th>\n",
       "      <th>age</th>\n",
       "      <th>resting_blood_pressure</th>\n",
       "      <th>cholesterol</th>\n",
       "      <th>max_heart_rate_achieved</th>\n",
       "    </tr>\n",
       "  </thead>\n",
       "  <tbody>\n",
       "    <tr>\n",
       "      <th>0</th>\n",
       "      <td>40</td>\n",
       "      <td>140</td>\n",
       "      <td>289</td>\n",
       "      <td>172</td>\n",
       "    </tr>\n",
       "    <tr>\n",
       "      <th>1</th>\n",
       "      <td>49</td>\n",
       "      <td>160</td>\n",
       "      <td>180</td>\n",
       "      <td>156</td>\n",
       "    </tr>\n",
       "    <tr>\n",
       "      <th>2</th>\n",
       "      <td>37</td>\n",
       "      <td>130</td>\n",
       "      <td>283</td>\n",
       "      <td>98</td>\n",
       "    </tr>\n",
       "    <tr>\n",
       "      <th>3</th>\n",
       "      <td>48</td>\n",
       "      <td>138</td>\n",
       "      <td>214</td>\n",
       "      <td>108</td>\n",
       "    </tr>\n",
       "    <tr>\n",
       "      <th>4</th>\n",
       "      <td>54</td>\n",
       "      <td>150</td>\n",
       "      <td>195</td>\n",
       "      <td>122</td>\n",
       "    </tr>\n",
       "  </tbody>\n",
       "</table>\n",
       "</div>"
      ],
      "text/plain": [
       "   age  resting_blood_pressure  cholesterol  max_heart_rate_achieved\n",
       "0   40                     140          289                      172\n",
       "1   49                     160          180                      156\n",
       "2   37                     130          283                       98\n",
       "3   48                     138          214                      108\n",
       "4   54                     150          195                      122"
      ]
     },
     "execution_count": 16,
     "metadata": {},
     "output_type": "execute_result"
    }
   ],
   "source": [
    "dt_numericas.head()"
   ]
  },
  {
   "cell_type": "code",
   "execution_count": 17,
   "metadata": {},
   "outputs": [],
   "source": [
    "# Calculando o z-score das colunas numéricas no conjunto de dados\n",
    "z = np.abs(stats.zscore(dt_numericas))"
   ]
  },
  {
   "cell_type": "markdown",
   "metadata": {},
   "source": [
    "Será definido um limite para dizer o que é outlier"
   ]
  },
  {
   "cell_type": "code",
   "execution_count": 18,
   "metadata": {},
   "outputs": [
    {
     "name": "stdout",
     "output_type": "stream",
     "text": [
      "(array([  30,   76,  109,  149,  242,  366,  371,  391,  400,  450,  592,\n",
      "        617,  733,  760, 1012, 1038, 1074]), array([2, 2, 1, 2, 1, 1, 3, 3, 1, 1, 1, 2, 1, 1, 1, 2, 1]))\n"
     ]
    }
   ],
   "source": [
    "# Defining threshold for filtering outliers \n",
    "limite = 3\n",
    "print(np.where(z > 3))"
   ]
  },
  {
   "cell_type": "code",
   "execution_count": 19,
   "metadata": {},
   "outputs": [],
   "source": [
    "# Filtrando outliers, mantendo apenas os pontos de dados que estão abaixo do limite\n",
    "dt = dt[(z < 3).all(axis=1)]"
   ]
  },
  {
   "cell_type": "code",
   "execution_count": 20,
   "metadata": {},
   "outputs": [
    {
     "data": {
      "text/plain": [
       "(1172, 12)"
      ]
     },
     "execution_count": 20,
     "metadata": {},
     "output_type": "execute_result"
    }
   ],
   "source": [
    "# Verificando a forma (shape) do conjunto de dados após a remoção de outliers\n",
    "dt.shape"
   ]
  },
  {
   "cell_type": "markdown",
   "metadata": {},
   "source": [
    "* Após a remoção dos outliers, o próximo passo é preparar o conjunto de dados para o processo de modelagem. Isso envolve a codificação das variáveis categóricas em variáveis dummy, o que permitirá que sejam utilizadas pelos algoritmos de aprendizado de máquina. Em seguida, as variáveis de característica serão separadas da variável alvo, preparando o terreno para a divisão do conjunto de dados em conjuntos de treino e teste."
   ]
  },
  {
   "cell_type": "code",
   "execution_count": 21,
   "metadata": {},
   "outputs": [
    {
     "data": {
      "text/html": [
       "<div>\n",
       "<style scoped>\n",
       "    .dataframe tbody tr th:only-of-type {\n",
       "        vertical-align: middle;\n",
       "    }\n",
       "\n",
       "    .dataframe tbody tr th {\n",
       "        vertical-align: top;\n",
       "    }\n",
       "\n",
       "    .dataframe thead th {\n",
       "        text-align: right;\n",
       "    }\n",
       "</style>\n",
       "<table border=\"1\" class=\"dataframe\">\n",
       "  <thead>\n",
       "    <tr style=\"text-align: right;\">\n",
       "      <th></th>\n",
       "      <th>age</th>\n",
       "      <th>resting_blood_pressure</th>\n",
       "      <th>cholesterol</th>\n",
       "      <th>fasting_blood_sugar</th>\n",
       "      <th>max_heart_rate_achieved</th>\n",
       "      <th>exercise_induced_angina</th>\n",
       "      <th>st_depression</th>\n",
       "      <th>target</th>\n",
       "      <th>sex_masculino</th>\n",
       "      <th>chest_pain_type_angina típica</th>\n",
       "      <th>chest_pain_type_assintomático</th>\n",
       "      <th>chest_pain_type_dor não anginosa</th>\n",
       "      <th>rest_ecg_hipertrofia ventricular esquerda</th>\n",
       "      <th>rest_ecg_normal</th>\n",
       "      <th>st_slope_cima</th>\n",
       "      <th>st_slope_plana</th>\n",
       "    </tr>\n",
       "  </thead>\n",
       "  <tbody>\n",
       "    <tr>\n",
       "      <th>0</th>\n",
       "      <td>40</td>\n",
       "      <td>140</td>\n",
       "      <td>289</td>\n",
       "      <td>0</td>\n",
       "      <td>172</td>\n",
       "      <td>0</td>\n",
       "      <td>0.0</td>\n",
       "      <td>0</td>\n",
       "      <td>1</td>\n",
       "      <td>0</td>\n",
       "      <td>0</td>\n",
       "      <td>0</td>\n",
       "      <td>0</td>\n",
       "      <td>1</td>\n",
       "      <td>1</td>\n",
       "      <td>0</td>\n",
       "    </tr>\n",
       "    <tr>\n",
       "      <th>1</th>\n",
       "      <td>49</td>\n",
       "      <td>160</td>\n",
       "      <td>180</td>\n",
       "      <td>0</td>\n",
       "      <td>156</td>\n",
       "      <td>0</td>\n",
       "      <td>1.0</td>\n",
       "      <td>1</td>\n",
       "      <td>0</td>\n",
       "      <td>0</td>\n",
       "      <td>0</td>\n",
       "      <td>1</td>\n",
       "      <td>0</td>\n",
       "      <td>1</td>\n",
       "      <td>0</td>\n",
       "      <td>1</td>\n",
       "    </tr>\n",
       "    <tr>\n",
       "      <th>2</th>\n",
       "      <td>37</td>\n",
       "      <td>130</td>\n",
       "      <td>283</td>\n",
       "      <td>0</td>\n",
       "      <td>98</td>\n",
       "      <td>0</td>\n",
       "      <td>0.0</td>\n",
       "      <td>0</td>\n",
       "      <td>1</td>\n",
       "      <td>0</td>\n",
       "      <td>0</td>\n",
       "      <td>0</td>\n",
       "      <td>0</td>\n",
       "      <td>0</td>\n",
       "      <td>1</td>\n",
       "      <td>0</td>\n",
       "    </tr>\n",
       "    <tr>\n",
       "      <th>3</th>\n",
       "      <td>48</td>\n",
       "      <td>138</td>\n",
       "      <td>214</td>\n",
       "      <td>0</td>\n",
       "      <td>108</td>\n",
       "      <td>1</td>\n",
       "      <td>1.5</td>\n",
       "      <td>1</td>\n",
       "      <td>0</td>\n",
       "      <td>0</td>\n",
       "      <td>1</td>\n",
       "      <td>0</td>\n",
       "      <td>0</td>\n",
       "      <td>1</td>\n",
       "      <td>0</td>\n",
       "      <td>1</td>\n",
       "    </tr>\n",
       "    <tr>\n",
       "      <th>4</th>\n",
       "      <td>54</td>\n",
       "      <td>150</td>\n",
       "      <td>195</td>\n",
       "      <td>0</td>\n",
       "      <td>122</td>\n",
       "      <td>0</td>\n",
       "      <td>0.0</td>\n",
       "      <td>0</td>\n",
       "      <td>1</td>\n",
       "      <td>0</td>\n",
       "      <td>0</td>\n",
       "      <td>1</td>\n",
       "      <td>0</td>\n",
       "      <td>1</td>\n",
       "      <td>1</td>\n",
       "      <td>0</td>\n",
       "    </tr>\n",
       "  </tbody>\n",
       "</table>\n",
       "</div>"
      ],
      "text/plain": [
       "   age  resting_blood_pressure  cholesterol  fasting_blood_sugar  \\\n",
       "0   40                     140          289                    0   \n",
       "1   49                     160          180                    0   \n",
       "2   37                     130          283                    0   \n",
       "3   48                     138          214                    0   \n",
       "4   54                     150          195                    0   \n",
       "\n",
       "   max_heart_rate_achieved  exercise_induced_angina  st_depression  target  \\\n",
       "0                      172                        0            0.0       0   \n",
       "1                      156                        0            1.0       1   \n",
       "2                       98                        0            0.0       0   \n",
       "3                      108                        1            1.5       1   \n",
       "4                      122                        0            0.0       0   \n",
       "\n",
       "   sex_masculino  chest_pain_type_angina típica  \\\n",
       "0              1                              0   \n",
       "1              0                              0   \n",
       "2              1                              0   \n",
       "3              0                              0   \n",
       "4              1                              0   \n",
       "\n",
       "   chest_pain_type_assintomático  chest_pain_type_dor não anginosa  \\\n",
       "0                              0                                 0   \n",
       "1                              0                                 1   \n",
       "2                              0                                 0   \n",
       "3                              1                                 0   \n",
       "4                              0                                 1   \n",
       "\n",
       "   rest_ecg_hipertrofia ventricular esquerda  rest_ecg_normal  st_slope_cima  \\\n",
       "0                                          0                1              1   \n",
       "1                                          0                1              0   \n",
       "2                                          0                0              1   \n",
       "3                                          0                1              0   \n",
       "4                                          0                1              1   \n",
       "\n",
       "   st_slope_plana  \n",
       "0               0  \n",
       "1               1  \n",
       "2               0  \n",
       "3               1  \n",
       "4               0  "
      ]
     },
     "execution_count": 21,
     "metadata": {},
     "output_type": "execute_result"
    }
   ],
   "source": [
    "## transformando variáveis categóricas\n",
    "dt = pd.get_dummies(dt, drop_first=True)\n",
    "\n",
    "dt.head()\n"
   ]
  },
  {
   "cell_type": "code",
   "execution_count": 22,
   "metadata": {},
   "outputs": [
    {
     "data": {
      "text/plain": [
       "(1172, 16)"
      ]
     },
     "execution_count": 22,
     "metadata": {},
     "output_type": "execute_result"
    }
   ],
   "source": [
    "dt.shape"
   ]
  },
  {
   "cell_type": "code",
   "execution_count": 23,
   "metadata": {},
   "outputs": [],
   "source": [
    "# Separando o conjunto de dados em características (X) e variável alvo (y)\n",
    "X = dt.drop(['target'],axis=1)\n",
    "y = dt['target']"
   ]
  },
  {
   "cell_type": "markdown",
   "metadata": {},
   "source": [
    "## Checando Correlações "
   ]
  },
  {
   "cell_type": "code",
   "execution_count": 24,
   "metadata": {},
   "outputs": [
    {
     "data": {
      "text/plain": [
       "<Axes: title={'center': 'Correlação com Doença Cardíaca'}>"
      ]
     },
     "execution_count": 24,
     "metadata": {},
     "output_type": "execute_result"
    },
    {
     "data": {
      "image/png": "[encoded data removed]",
      "text/plain": [
       "<Figure size 1600x400 with 1 Axes>"
      ]
     },
     "metadata": {},
     "output_type": "display_data"
    }
   ],
   "source": [
    "\n",
    "X.corrwith(y).plot.bar(\n",
    "        figsize = (16, 4), title = \"Correlação com Doença Cardíaca\", fontsize = 15,\n",
    "        rot = 90, grid = True)\n"
   ]
  },
  {
   "cell_type": "markdown",
   "metadata": {},
   "source": [
    "## 6. **Treinamento e Divisão de Dados Para Teste**  <a id='data-train'></a>\n",
    "\n",
    "* Agora, o conjunto de dados será dividido em dois subconjuntos: um para treinamento dos modelos (X_train, y_train) e outro para teste e avaliação do desempenho (X_test, y_test). Será garantida uma distribuição equilibrada da variável alvo em ambos os conjuntos."
   ]
  },
  {
   "cell_type": "code",
   "execution_count": 25,
   "metadata": {},
   "outputs": [],
   "source": [
    "semente = 7\n",
    "X_train, X_test, y_train, y_test = train_test_split(X, y, stratify=y, test_size=0.2,shuffle=True, random_state=semente)"
   ]
  },
  {
   "cell_type": "code",
   "execution_count": 26,
   "metadata": {},
   "outputs": [
    {
     "name": "stdout",
     "output_type": "stream",
     "text": [
      "Distribuição da variável alvo no conjunto de treino\n",
      "1    491\n",
      "0    446\n",
      "Name: target, dtype: int64\n",
      "Distribuição da variável alvo no conjunto de teste\n",
      "1    123\n",
      "0    112\n",
      "Name: target, dtype: int64\n"
     ]
    }
   ],
   "source": [
    "# Verificando a distribuição da variável alvo na divisão de treino e teste\n",
    "\n",
    "print('Distribuição da variável alvo no conjunto de treino')\n",
    "print(y_train.value_counts())\n",
    "\n",
    "print('Distribuição da variável alvo no conjunto de teste')\n",
    "print(y_test.value_counts())"
   ]
  },
  {
   "cell_type": "code",
   "execution_count": 27,
   "metadata": {},
   "outputs": [
    {
     "name": "stdout",
     "output_type": "stream",
     "text": [
      "------------Conjunto de Treino------------------\n",
      "(937, 15)\n",
      "(937,)\n",
      "------------Conjunto de Teste------------------\n",
      "(235, 15)\n",
      "(235,)\n"
     ]
    }
   ],
   "source": [
    "print('------------Conjunto de Treino------------------')\n",
    "print(X_train.shape)\n",
    "print(y_train.shape)\n",
    "\n",
    "print('------------Conjunto de Teste------------------')\n",
    "print(X_test.shape)\n",
    "print(y_test.shape)"
   ]
  },
  {
   "cell_type": "markdown",
   "metadata": {},
   "source": [
    "### Normalização das Características\n",
    "Nesta etapa, normalizaremos todas as características numéricas para que estejam no intervalo de 0 a 1."
   ]
  },
  {
   "cell_type": "code",
   "execution_count": 28,
   "metadata": {},
   "outputs": [
    {
     "data": {
      "text/html": [
       "<div>\n",
       "<style scoped>\n",
       "    .dataframe tbody tr th:only-of-type {\n",
       "        vertical-align: middle;\n",
       "    }\n",
       "\n",
       "    .dataframe tbody tr th {\n",
       "        vertical-align: top;\n",
       "    }\n",
       "\n",
       "    .dataframe thead th {\n",
       "        text-align: right;\n",
       "    }\n",
       "</style>\n",
       "<table border=\"1\" class=\"dataframe\">\n",
       "  <thead>\n",
       "    <tr style=\"text-align: right;\">\n",
       "      <th></th>\n",
       "      <th>age</th>\n",
       "      <th>resting_blood_pressure</th>\n",
       "      <th>cholesterol</th>\n",
       "      <th>fasting_blood_sugar</th>\n",
       "      <th>max_heart_rate_achieved</th>\n",
       "      <th>exercise_induced_angina</th>\n",
       "      <th>st_depression</th>\n",
       "      <th>sex_masculino</th>\n",
       "      <th>chest_pain_type_angina típica</th>\n",
       "      <th>chest_pain_type_assintomático</th>\n",
       "      <th>chest_pain_type_dor não anginosa</th>\n",
       "      <th>rest_ecg_hipertrofia ventricular esquerda</th>\n",
       "      <th>rest_ecg_normal</th>\n",
       "      <th>st_slope_cima</th>\n",
       "      <th>st_slope_plana</th>\n",
       "    </tr>\n",
       "  </thead>\n",
       "  <tbody>\n",
       "    <tr>\n",
       "      <th>79</th>\n",
       "      <td>0.428571</td>\n",
       "      <td>0.476190</td>\n",
       "      <td>0.419552</td>\n",
       "      <td>0</td>\n",
       "      <td>0.762963</td>\n",
       "      <td>0</td>\n",
       "      <td>0.295455</td>\n",
       "      <td>1</td>\n",
       "      <td>0</td>\n",
       "      <td>1</td>\n",
       "      <td>0</td>\n",
       "      <td>0</td>\n",
       "      <td>1</td>\n",
       "      <td>0</td>\n",
       "      <td>1</td>\n",
       "    </tr>\n",
       "    <tr>\n",
       "      <th>134</th>\n",
       "      <td>0.673469</td>\n",
       "      <td>0.476190</td>\n",
       "      <td>0.598778</td>\n",
       "      <td>0</td>\n",
       "      <td>0.392593</td>\n",
       "      <td>1</td>\n",
       "      <td>0.409091</td>\n",
       "      <td>0</td>\n",
       "      <td>0</td>\n",
       "      <td>1</td>\n",
       "      <td>0</td>\n",
       "      <td>0</td>\n",
       "      <td>0</td>\n",
       "      <td>0</td>\n",
       "      <td>1</td>\n",
       "    </tr>\n",
       "    <tr>\n",
       "      <th>999</th>\n",
       "      <td>0.489796</td>\n",
       "      <td>0.361905</td>\n",
       "      <td>0.378819</td>\n",
       "      <td>0</td>\n",
       "      <td>0.911111</td>\n",
       "      <td>0</td>\n",
       "      <td>0.295455</td>\n",
       "      <td>1</td>\n",
       "      <td>1</td>\n",
       "      <td>0</td>\n",
       "      <td>0</td>\n",
       "      <td>1</td>\n",
       "      <td>0</td>\n",
       "      <td>0</td>\n",
       "      <td>1</td>\n",
       "    </tr>\n",
       "    <tr>\n",
       "      <th>976</th>\n",
       "      <td>0.469388</td>\n",
       "      <td>0.476190</td>\n",
       "      <td>0.521385</td>\n",
       "      <td>0</td>\n",
       "      <td>0.607407</td>\n",
       "      <td>0</td>\n",
       "      <td>0.352273</td>\n",
       "      <td>0</td>\n",
       "      <td>0</td>\n",
       "      <td>0</td>\n",
       "      <td>1</td>\n",
       "      <td>1</td>\n",
       "      <td>0</td>\n",
       "      <td>1</td>\n",
       "      <td>0</td>\n",
       "    </tr>\n",
       "    <tr>\n",
       "      <th>1097</th>\n",
       "      <td>0.183673</td>\n",
       "      <td>0.380952</td>\n",
       "      <td>0.437882</td>\n",
       "      <td>0</td>\n",
       "      <td>0.762963</td>\n",
       "      <td>0</td>\n",
       "      <td>0.295455</td>\n",
       "      <td>0</td>\n",
       "      <td>0</td>\n",
       "      <td>0</td>\n",
       "      <td>1</td>\n",
       "      <td>0</td>\n",
       "      <td>1</td>\n",
       "      <td>1</td>\n",
       "      <td>0</td>\n",
       "    </tr>\n",
       "  </tbody>\n",
       "</table>\n",
       "</div>"
      ],
      "text/plain": [
       "           age  resting_blood_pressure  cholesterol  fasting_blood_sugar  \\\n",
       "79    0.428571                0.476190     0.419552                    0   \n",
       "134   0.673469                0.476190     0.598778                    0   \n",
       "999   0.489796                0.361905     0.378819                    0   \n",
       "976   0.469388                0.476190     0.521385                    0   \n",
       "1097  0.183673                0.380952     0.437882                    0   \n",
       "\n",
       "      max_heart_rate_achieved  exercise_induced_angina  st_depression  \\\n",
       "79                   0.762963                        0       0.295455   \n",
       "134                  0.392593                        1       0.409091   \n",
       "999                  0.911111                        0       0.295455   \n",
       "976                  0.607407                        0       0.352273   \n",
       "1097                 0.762963                        0       0.295455   \n",
       "\n",
       "      sex_masculino  chest_pain_type_angina típica  \\\n",
       "79                1                              0   \n",
       "134               0                              0   \n",
       "999               1                              1   \n",
       "976               0                              0   \n",
       "1097              0                              0   \n",
       "\n",
       "      chest_pain_type_assintomático  chest_pain_type_dor não anginosa  \\\n",
       "79                                1                                 0   \n",
       "134                               1                                 0   \n",
       "999                               0                                 0   \n",
       "976                               0                                 1   \n",
       "1097                              0                                 1   \n",
       "\n",
       "      rest_ecg_hipertrofia ventricular esquerda  rest_ecg_normal  \\\n",
       "79                                            0                1   \n",
       "134                                           0                0   \n",
       "999                                           1                0   \n",
       "976                                           1                0   \n",
       "1097                                          0                1   \n",
       "\n",
       "      st_slope_cima  st_slope_plana  \n",
       "79                0               1  \n",
       "134               0               1  \n",
       "999               0               1  \n",
       "976               1               0  \n",
       "1097              1               0  "
      ]
     },
     "execution_count": 28,
     "metadata": {},
     "output_type": "execute_result"
    }
   ],
   "source": [
    "escalonador = MinMaxScaler()\n",
    "X_train[['age','resting_blood_pressure','cholesterol','max_heart_rate_achieved','st_depression']] = escalonador.fit_transform(X_train[['age','resting_blood_pressure','cholesterol','max_heart_rate_achieved','st_depression']])\n",
    "X_train.head()"
   ]
  },
  {
   "cell_type": "code",
   "execution_count": 29,
   "metadata": {},
   "outputs": [
    {
     "data": {
      "text/html": [
       "<div>\n",
       "<style scoped>\n",
       "    .dataframe tbody tr th:only-of-type {\n",
       "        vertical-align: middle;\n",
       "    }\n",
       "\n",
       "    .dataframe tbody tr th {\n",
       "        vertical-align: top;\n",
       "    }\n",
       "\n",
       "    .dataframe thead th {\n",
       "        text-align: right;\n",
       "    }\n",
       "</style>\n",
       "<table border=\"1\" class=\"dataframe\">\n",
       "  <thead>\n",
       "    <tr style=\"text-align: right;\">\n",
       "      <th></th>\n",
       "      <th>age</th>\n",
       "      <th>resting_blood_pressure</th>\n",
       "      <th>cholesterol</th>\n",
       "      <th>fasting_blood_sugar</th>\n",
       "      <th>max_heart_rate_achieved</th>\n",
       "      <th>exercise_induced_angina</th>\n",
       "      <th>st_depression</th>\n",
       "      <th>sex_masculino</th>\n",
       "      <th>chest_pain_type_angina típica</th>\n",
       "      <th>chest_pain_type_assintomático</th>\n",
       "      <th>chest_pain_type_dor não anginosa</th>\n",
       "      <th>rest_ecg_hipertrofia ventricular esquerda</th>\n",
       "      <th>rest_ecg_normal</th>\n",
       "      <th>st_slope_cima</th>\n",
       "      <th>st_slope_plana</th>\n",
       "    </tr>\n",
       "  </thead>\n",
       "  <tbody>\n",
       "    <tr>\n",
       "      <th>1050</th>\n",
       "      <td>0.612245</td>\n",
       "      <td>0.190476</td>\n",
       "      <td>0.505092</td>\n",
       "      <td>0</td>\n",
       "      <td>0.407407</td>\n",
       "      <td>0</td>\n",
       "      <td>0.409091</td>\n",
       "      <td>0</td>\n",
       "      <td>0</td>\n",
       "      <td>1</td>\n",
       "      <td>0</td>\n",
       "      <td>1</td>\n",
       "      <td>0</td>\n",
       "      <td>0</td>\n",
       "      <td>1</td>\n",
       "    </tr>\n",
       "    <tr>\n",
       "      <th>1055</th>\n",
       "      <td>0.142857</td>\n",
       "      <td>0.438095</td>\n",
       "      <td>0.574338</td>\n",
       "      <td>0</td>\n",
       "      <td>0.659259</td>\n",
       "      <td>1</td>\n",
       "      <td>0.295455</td>\n",
       "      <td>1</td>\n",
       "      <td>0</td>\n",
       "      <td>1</td>\n",
       "      <td>0</td>\n",
       "      <td>1</td>\n",
       "      <td>0</td>\n",
       "      <td>1</td>\n",
       "      <td>0</td>\n",
       "    </tr>\n",
       "    <tr>\n",
       "      <th>1154</th>\n",
       "      <td>0.632653</td>\n",
       "      <td>0.438095</td>\n",
       "      <td>0.443992</td>\n",
       "      <td>1</td>\n",
       "      <td>0.496296</td>\n",
       "      <td>0</td>\n",
       "      <td>0.545455</td>\n",
       "      <td>1</td>\n",
       "      <td>0</td>\n",
       "      <td>0</td>\n",
       "      <td>1</td>\n",
       "      <td>0</td>\n",
       "      <td>1</td>\n",
       "      <td>0</td>\n",
       "      <td>1</td>\n",
       "    </tr>\n",
       "    <tr>\n",
       "      <th>214</th>\n",
       "      <td>0.571429</td>\n",
       "      <td>0.476190</td>\n",
       "      <td>0.446029</td>\n",
       "      <td>0</td>\n",
       "      <td>0.718519</td>\n",
       "      <td>0</td>\n",
       "      <td>0.295455</td>\n",
       "      <td>0</td>\n",
       "      <td>0</td>\n",
       "      <td>0</td>\n",
       "      <td>1</td>\n",
       "      <td>0</td>\n",
       "      <td>0</td>\n",
       "      <td>1</td>\n",
       "      <td>0</td>\n",
       "    </tr>\n",
       "    <tr>\n",
       "      <th>541</th>\n",
       "      <td>0.693878</td>\n",
       "      <td>0.552381</td>\n",
       "      <td>0.415479</td>\n",
       "      <td>0</td>\n",
       "      <td>0.407407</td>\n",
       "      <td>1</td>\n",
       "      <td>0.431818</td>\n",
       "      <td>1</td>\n",
       "      <td>0</td>\n",
       "      <td>0</td>\n",
       "      <td>1</td>\n",
       "      <td>0</td>\n",
       "      <td>0</td>\n",
       "      <td>0</td>\n",
       "      <td>1</td>\n",
       "    </tr>\n",
       "  </tbody>\n",
       "</table>\n",
       "</div>"
      ],
      "text/plain": [
       "           age  resting_blood_pressure  cholesterol  fasting_blood_sugar  \\\n",
       "1050  0.612245                0.190476     0.505092                    0   \n",
       "1055  0.142857                0.438095     0.574338                    0   \n",
       "1154  0.632653                0.438095     0.443992                    1   \n",
       "214   0.571429                0.476190     0.446029                    0   \n",
       "541   0.693878                0.552381     0.415479                    0   \n",
       "\n",
       "      max_heart_rate_achieved  exercise_induced_angina  st_depression  \\\n",
       "1050                 0.407407                        0       0.409091   \n",
       "1055                 0.659259                        1       0.295455   \n",
       "1154                 0.496296                        0       0.545455   \n",
       "214                  0.718519                        0       0.295455   \n",
       "541                  0.407407                        1       0.431818   \n",
       "\n",
       "      sex_masculino  chest_pain_type_angina típica  \\\n",
       "1050              0                              0   \n",
       "1055              1                              0   \n",
       "1154              1                              0   \n",
       "214               0                              0   \n",
       "541               1                              0   \n",
       "\n",
       "      chest_pain_type_assintomático  chest_pain_type_dor não anginosa  \\\n",
       "1050                              1                                 0   \n",
       "1055                              1                                 0   \n",
       "1154                              0                                 1   \n",
       "214                               0                                 1   \n",
       "541                               0                                 1   \n",
       "\n",
       "      rest_ecg_hipertrofia ventricular esquerda  rest_ecg_normal  \\\n",
       "1050                                          1                0   \n",
       "1055                                          1                0   \n",
       "1154                                          0                1   \n",
       "214                                           0                0   \n",
       "541                                           0                0   \n",
       "\n",
       "      st_slope_cima  st_slope_plana  \n",
       "1050              0               1  \n",
       "1055              1               0  \n",
       "1154              0               1  \n",
       "214               1               0  \n",
       "541               0               1  "
      ]
     },
     "execution_count": 29,
     "metadata": {},
     "output_type": "execute_result"
    }
   ],
   "source": [
    "X_test[['age','resting_blood_pressure','cholesterol','max_heart_rate_achieved','st_depression']] = escalonador.transform(X_test[['age','resting_blood_pressure','cholesterol','max_heart_rate_achieved','st_depression']])\n",
    "X_test.head()"
   ]
  },
  {
   "cell_type": "markdown",
   "metadata": {},
   "source": [
    "## 7. **Validação Cruzada** <a id='cross-val'></a> \n",
    "\n",
    "* A validação cruzada será empregada para avaliar o desempenho de diferentes modelos de aprendizado de máquina e selecionar aqueles com melhor performance. A validação cruzada de 10 folds (k-fold cross-validation) será utilizada para obter estimativas mais robustas do desempenho dos modelos."
   ]
  },
  {
   "cell_type": "code",
   "execution_count": 30,
   "metadata": {},
   "outputs": [],
   "source": [
    "# função inicializando modelos de aprendizado de máquina de base\n",
    "\n",
    "def ObterModelosBase():\n",
    "    modelosBase = []\n",
    "    modelosBase.append(('LR_L2'   , LogisticRegression(penalty='l2')))\n",
    "    modelosBase.append(('LDA'   , LinearDiscriminantAnalysis()))\n",
    "    modelosBase.append(('KNN7'  , KNeighborsClassifier(7)))\n",
    "    modelosBase.append(('KNN5'  , KNeighborsClassifier(5)))\n",
    "    modelosBase.append(('KNN9'  , KNeighborsClassifier(9)))\n",
    "    modelosBase.append(('KNN11'  , KNeighborsClassifier(11)))\n",
    "    modelosBase.append(('CART' , DecisionTreeClassifier()))\n",
    "    modelosBase.append(('NB'    , GaussianNB()))\n",
    "    modelosBase.append(('SVM Linear'  , SVC(kernel='linear',gamma='auto',probability=True)))\n",
    "    modelosBase.append(('SVM RBF'  , SVC(kernel='rbf',gamma='auto',probability=True)))\n",
    "    modelosBase.append(('AB'    , AdaBoostClassifier()))\n",
    "    modelosBase.append(('GBM'  , GradientBoostingClassifier(n_estimators=100,max_features='sqrt')))\n",
    "    modelosBase.append(('RF_Ent100'   , RandomForestClassifier(criterion='entropy',n_estimators=100)))\n",
    "    modelosBase.append(('RF_Gini100'   , RandomForestClassifier(criterion='gini',n_estimators=100)))\n",
    "    modelosBase.append(('ET100'   , ExtraTreesClassifier(n_estimators= 100)))\n",
    "    modelosBase.append(('ET500'   , ExtraTreesClassifier(n_estimators= 500)))\n",
    "    modelosBase.append(('MLP', MLPClassifier()))\n",
    "    modelosBase.append(('SGD3000', SGDClassifier(max_iter=1000, tol=1e-4)))\n",
    "    modelosBase.append(('XGB_2000', xgb.XGBClassifier(n_estimators= 2000)))\n",
    "    modelosBase.append(('XGB_500', xgb.XGBClassifier(n_estimators= 500)))\n",
    "    modelosBase.append(('XGB_100', xgb.XGBClassifier(n_estimators= 100)))\n",
    "    modelosBase.append(('XGB_1000', xgb.XGBClassifier(n_estimators= 1000)))\n",
    "    modelosBase.append(('ET1000'   , ExtraTreesClassifier(n_estimators= 1000)))\n",
    "    \n",
    "    return modelosBase\n",
    "\n",
    "# função para realizar validação cruzada de 10 folds de todos os modelos de base\n",
    "def LinhaBase2(X_train, y_train, modelos):\n",
    "    # Opções de teste e métrica de avaliação\n",
    "    numeroFolds = 10\n",
    "    pontuacao = 'accuracy'\n",
    "    resultados = []\n",
    "    nomes = []\n",
    "    for nome, modelo in modelos:\n",
    "        kFold = model_selection.KFold(n_splits=10, random_state=semente, shuffle=True)\n",
    "        resultadosValidacaoCruzada = model_selection.cross_val_score(modelo, X_train, y_train, cv=kFold, scoring=pontuacao)\n",
    "        resultados.append(resultadosValidacaoCruzada)\n",
    "        nomes.append(nome)\n",
    "        mensagem = \"%s: %f (%f)\" % (nome, resultadosValidacaoCruzada.mean(), resultadosValidacaoCruzada.std())\n",
    "        print(mensagem)\n",
    "        \n",
    "    return resultados, mensagem"
   ]
  },
  {
   "cell_type": "code",
   "execution_count": 31,
   "metadata": {},
   "outputs": [
    {
     "name": "stdout",
     "output_type": "stream",
     "text": [
      "LR_L2: 0.833528 (0.036665)\n",
      "LDA: 0.842061 (0.030449)\n",
      "KNN7: 0.851682 (0.034779)\n",
      "KNN5: 0.854896 (0.039239)\n",
      "KNN9: 0.847392 (0.035693)\n",
      "KNN11: 0.839934 (0.038576)\n",
      "CART: 0.867776 (0.038210)\n",
      "NB: 0.841009 (0.034855)\n",
      "SVM Linear: 0.843125 (0.029394)\n",
      "SVM RBF: 0.841032 (0.029386)\n",
      "AB: 0.832475 (0.042060)\n",
      "GBM: 0.878380 (0.030816)\n",
      "RF_Ent100: 0.927477 (0.024093)\n",
      "RF_Gini100: 0.921082 (0.030521)\n",
      "ET100: 0.920030 (0.028510)\n",
      "ET500: 0.917902 (0.031823)\n",
      "MLP: 0.854907 (0.043718)\n",
      "SGD3000: 0.789796 (0.046795)\n",
      "XGB_2000: 0.908305 (0.039190)\n",
      "XGB_500: 0.911508 (0.040324)\n",
      "XGB_100: 0.914699 (0.036764)\n",
      "XGB_1000: 0.912571 (0.037323)\n",
      "ET1000: 0.915740 (0.029416)\n"
     ]
    }
   ],
   "source": [
    "modelos = ObterModelosBase()\n",
    "nomes,resultados = LinhaBase2(X_train, y_train,modelos)"
   ]
  },
  {
   "cell_type": "markdown",
   "metadata": {},
   "source": [
    "## 8. **Construção de Modelo** <a id='data-model'></a>\n",
    "\n",
    "* Nesta seção, serão construídos e treinados diversos modelos de aprendizado de máquina, incluindo Random Forest, Multi-Layer Perceptron, K-Nearest Neighbors, Extra Trees, XGBoost, Support Vector Machine, Stochastic Gradient Descent, AdaBoost, Decision Tree e Gradient Boosting Machine."
   ]
  },
  {
   "cell_type": "markdown",
   "metadata": {},
   "source": [
    "### Random Forest Classifier (criterion = 'entropy')"
   ]
  },
  {
   "cell_type": "code",
   "execution_count": 32,
   "metadata": {},
   "outputs": [],
   "source": [
    "rf_ent = RandomForestClassifier(criterion='entropy',n_estimators=100)\n",
    "rf_ent.fit(X_train, y_train)\n",
    "y_pred_rfe = rf_ent.predict(X_test)"
   ]
  },
  {
   "cell_type": "markdown",
   "metadata": {},
   "source": [
    "### Multi Layer Perceptron"
   ]
  },
  {
   "cell_type": "code",
   "execution_count": 33,
   "metadata": {},
   "outputs": [],
   "source": [
    "mlp = MLPClassifier()\n",
    "mlp.fit(X_train,y_train)\n",
    "y_pred_mlp = mlp.predict(X_test)"
   ]
  },
  {
   "cell_type": "markdown",
   "metadata": {},
   "source": [
    "### K nearest neighbour (n=9)"
   ]
  },
  {
   "cell_type": "code",
   "execution_count": 34,
   "metadata": {},
   "outputs": [],
   "source": [
    "knn = KNeighborsClassifier(9)\n",
    "knn.fit(X_train,y_train)\n",
    "y_pred_knn = knn.predict(X_test)"
   ]
  },
  {
   "cell_type": "markdown",
   "metadata": {},
   "source": [
    "### Extra Tree Classifier (n_estimators=500)"
   ]
  },
  {
   "cell_type": "code",
   "execution_count": 35,
   "metadata": {},
   "outputs": [],
   "source": [
    "et_100 = ExtraTreesClassifier(n_estimators= 100)\n",
    "et_100.fit(X_train,y_train)\n",
    "y_pred_et_100 = et_100.predict(X_test)"
   ]
  },
  {
   "cell_type": "markdown",
   "metadata": {},
   "source": [
    "### XGBoost (n_estimators=500)"
   ]
  },
  {
   "cell_type": "code",
   "execution_count": 36,
   "metadata": {},
   "outputs": [],
   "source": [
    "xgb = xgb.XGBClassifier(n_estimators= 500)\n",
    "xgb.fit(X_train,y_train)\n",
    "y_pred_xgb = xgb.predict(X_test)"
   ]
  },
  {
   "cell_type": "markdown",
   "metadata": {},
   "source": [
    "### Support Vector Classifier (kernel='linear')"
   ]
  },
  {
   "cell_type": "code",
   "execution_count": 37,
   "metadata": {},
   "outputs": [],
   "source": [
    "svc = SVC(kernel='linear',gamma='auto',probability=True)\n",
    "svc.fit(X_train,y_train)\n",
    "y_pred_svc = svc.predict(X_test)"
   ]
  },
  {
   "cell_type": "markdown",
   "metadata": {},
   "source": [
    "### Stochastic Gradient Descent"
   ]
  },
  {
   "cell_type": "code",
   "execution_count": 38,
   "metadata": {},
   "outputs": [],
   "source": [
    "sgd = SGDClassifier(max_iter=1000, tol=1e-4)\n",
    "sgd.fit(X_train,y_train)\n",
    "y_pred_sgd = sgd.predict(X_test)"
   ]
  },
  {
   "cell_type": "markdown",
   "metadata": {},
   "source": [
    "### Adaboost Classifier"
   ]
  },
  {
   "cell_type": "code",
   "execution_count": 39,
   "metadata": {},
   "outputs": [],
   "source": [
    "ada = AdaBoostClassifier()\n",
    "ada.fit(X_train,y_train)\n",
    "y_pred_ada = ada.predict(X_test)"
   ]
  },
  {
   "cell_type": "markdown",
   "metadata": {},
   "source": [
    "### Decision Tree Classifier (CART)"
   ]
  },
  {
   "cell_type": "code",
   "execution_count": 40,
   "metadata": {},
   "outputs": [],
   "source": [
    "decc = DecisionTreeClassifier()\n",
    "decc.fit(X_train,y_train)\n",
    "y_pred_decc = decc.predict(X_test)"
   ]
  },
  {
   "cell_type": "markdown",
   "metadata": {},
   "source": [
    "### Gradient boosting machine "
   ]
  },
  {
   "cell_type": "code",
   "execution_count": 41,
   "metadata": {},
   "outputs": [],
   "source": [
    "gbm = GradientBoostingClassifier(n_estimators=100,max_features='sqrt')\n",
    "gbm.fit(X_train,y_train)\n",
    "y_pred_gbm = gbm.predict(X_test)"
   ]
  },
  {
   "cell_type": "markdown",
   "metadata": {},
   "source": [
    "## 9. **Avaliação e Comparação de Modelos**  <a id='model-eval'></a>\n",
    "\n",
    "* Após o treinamento dos modelos, seus desempenhos serão avaliados utilizando métricas relevantes para o problema de classificação de doenças cardíacas. As métricas incluem acurácia, precisão, sensibilidade, especificidade, F1-score, área sob a curva ROC (AUC), Log Loss e o coeficiente de correlação de Matthews."
   ]
  },
  {
   "cell_type": "markdown",
   "metadata": {},
   "source": [
    "### Log Loss\n",
    "A perda logarítmica mede o desempenho de um modelo de classificação onde a entrada de previsão é um valor de probabilidade entre 0 e 1. O objetivo dos modelos de aprendizado de máquina é minimizar esse valor. Um modelo perfeito teria uma perda logarítmica de 0. A perda logarítmica aumenta à medida que a probabilidade prevista diverge do rótulo real. Assim, prever uma probabilidade de 0,012 quando o rótulo real da observação é 1 seria ruim e resultaria em uma alta perda logarítmica.\n",
    "\n",
    "O gráfico abaixo mostra a faixa de possíveis valores de perda logarítmica, dada uma observação verdadeira (isDog = 1). À medida que a probabilidade prevista se aproxima de 1, a perda logarítmica diminui lentamente. No entanto, à medida que a probabilidade prevista diminui, a perda logarítmica aumenta rapidamente. A perda logarítmica penaliza ambos os tipos de erros, mas especialmente aqueles que são confiantes e errados.\n",
    "![](https://i.ibb.co/6BdDczW/log-loss.jpg)"
   ]
  },
  {
   "cell_type": "markdown",
   "metadata": {},
   "source": [
    "### F1 Score\n",
    "\n",
    "O F1 Score é a média ponderada entre Precisão e Revogação (Recall). Portanto, essa métrica leva em consideração tanto os falsos positivos quanto os falsos negativos. Intuitivamente, não é tão fácil de entender como a acurácia, mas o F1 Score geralmente é mais útil que a acurácia, especialmente quando há uma distribuição de classes desigual. A acurácia funciona melhor se falsos positivos e falsos negativos tiverem um custo similar. Se o custo de falsos positivos e falsos negativos for muito diferente, é melhor analisar tanto a Precisão quanto a Revogação. No caso em questão, o F1 Score é 0.701.\n",
    "\n",
    "Fórmula do F1 Score:\n",
    "\n",
    "**F1 Score = 2 * (Recall * Precision) / (Recall + Precision)**"
   ]
  },
  {
   "cell_type": "code",
   "execution_count": 42,
   "metadata": {},
   "outputs": [
    {
     "data": {
      "text/html": [
       "<div>\n",
       "<style scoped>\n",
       "    .dataframe tbody tr th:only-of-type {\n",
       "        vertical-align: middle;\n",
       "    }\n",
       "\n",
       "    .dataframe tbody tr th {\n",
       "        vertical-align: top;\n",
       "    }\n",
       "\n",
       "    .dataframe thead th {\n",
       "        text-align: right;\n",
       "    }\n",
       "</style>\n",
       "<table border=\"1\" class=\"dataframe\">\n",
       "  <thead>\n",
       "    <tr style=\"text-align: right;\">\n",
       "      <th></th>\n",
       "      <th>Modelo</th>\n",
       "      <th>Acurácia</th>\n",
       "      <th>Precisão</th>\n",
       "      <th>Sensibilidade</th>\n",
       "      <th>Especificidade</th>\n",
       "      <th>F1 Score</th>\n",
       "      <th>ROC</th>\n",
       "      <th>Log_Loss</th>\n",
       "      <th>mathew_corrcoef</th>\n",
       "    </tr>\n",
       "  </thead>\n",
       "  <tbody>\n",
       "    <tr>\n",
       "      <th>0</th>\n",
       "      <td>Random Forest</td>\n",
       "      <td>0.93617</td>\n",
       "      <td>0.942623</td>\n",
       "      <td>0.934959</td>\n",
       "      <td>0.9375</td>\n",
       "      <td>0.938776</td>\n",
       "      <td>0.93623</td>\n",
       "      <td>2.300659</td>\n",
       "      <td>0.872143</td>\n",
       "    </tr>\n",
       "  </tbody>\n",
       "</table>\n",
       "</div>"
      ],
      "text/plain": [
       "          Modelo  Acurácia  Precisão  Sensibilidade  Especificidade  F1 Score  \\\n",
       "0  Random Forest   0.93617  0.942623       0.934959          0.9375  0.938776   \n",
       "\n",
       "       ROC  Log_Loss  mathew_corrcoef  \n",
       "0  0.93623  2.300659         0.872143  "
      ]
     },
     "execution_count": 42,
     "metadata": {},
     "output_type": "execute_result"
    },
    {
     "data": {
      "image/png": "[encoded data removed]",
      "text/plain": [
       "<Figure size 640x480 with 2 Axes>"
      ]
     },
     "metadata": {},
     "output_type": "display_data"
    }
   ],
   "source": [
    "CM=confusion_matrix(y_test,y_pred_rfe)\n",
    "sns.heatmap(CM, annot=True)\n",
    "\n",
    "TN = CM[0][0]\n",
    "FN = CM[1][0]\n",
    "TP = CM[1][1]\n",
    "FP = CM[0][1]\n",
    "especificidade = TN/(TN+FP)\n",
    "loss_log = log_loss(y_test, y_pred_rfe)\n",
    "acc= accuracy_score(y_test, y_pred_rfe)\n",
    "roc=roc_auc_score(y_test, y_pred_rfe)\n",
    "prec = precision_score(y_test, y_pred_rfe)\n",
    "rec = recall_score(y_test, y_pred_rfe)\n",
    "f1 = f1_score(y_test, y_pred_rfe)\n",
    "\n",
    "mathew = matthews_corrcoef(y_test, y_pred_rfe)\n",
    "resultados_modelos =pd.DataFrame([['Random Forest',acc, prec,rec,especificidade, f1,roc, loss_log,mathew]],\n",
    "               columns = ['Modelo', 'Acurácia','Precisão', 'Sensibilidade','Especificidade', 'F1 Score','ROC','Log_Loss','mathew_corrcoef'])\n",
    "\n",
    "resultados_modelos"
   ]
  },
  {
   "cell_type": "markdown",
   "metadata": {},
   "source": [
    "## Comparação com Outros Modelos"
   ]
  },
  {
   "cell_type": "code",
   "execution_count": 43,
   "metadata": {},
   "outputs": [
    {
     "data": {
      "text/html": [
       "<div>\n",
       "<style scoped>\n",
       "    .dataframe tbody tr th:only-of-type {\n",
       "        vertical-align: middle;\n",
       "    }\n",
       "\n",
       "    .dataframe tbody tr th {\n",
       "        vertical-align: top;\n",
       "    }\n",
       "\n",
       "    .dataframe thead th {\n",
       "        text-align: right;\n",
       "    }\n",
       "</style>\n",
       "<table border=\"1\" class=\"dataframe\">\n",
       "  <thead>\n",
       "    <tr style=\"text-align: right;\">\n",
       "      <th></th>\n",
       "      <th>Modelo</th>\n",
       "      <th>Acurácia</th>\n",
       "      <th>Precisão</th>\n",
       "      <th>Sensibilidade</th>\n",
       "      <th>Especificidade</th>\n",
       "      <th>F1 Score</th>\n",
       "      <th>ROC</th>\n",
       "      <th>Log_Loss</th>\n",
       "      <th>mathew_corrcoef</th>\n",
       "    </tr>\n",
       "  </thead>\n",
       "  <tbody>\n",
       "    <tr>\n",
       "      <th>0</th>\n",
       "      <td>GBM</td>\n",
       "      <td>0.902128</td>\n",
       "      <td>0.896825</td>\n",
       "      <td>0.918699</td>\n",
       "      <td>0.883929</td>\n",
       "      <td>0.907631</td>\n",
       "      <td>0.901314</td>\n",
       "      <td>3.527677</td>\n",
       "      <td>0.803854</td>\n",
       "    </tr>\n",
       "    <tr>\n",
       "      <th>1</th>\n",
       "      <td>GBM</td>\n",
       "      <td>0.902128</td>\n",
       "      <td>0.896825</td>\n",
       "      <td>0.918699</td>\n",
       "      <td>0.883929</td>\n",
       "      <td>0.907631</td>\n",
       "      <td>0.901314</td>\n",
       "      <td>3.527677</td>\n",
       "      <td>0.803854</td>\n",
       "    </tr>\n",
       "  </tbody>\n",
       "</table>\n",
       "</div>"
      ],
      "text/plain": [
       "  Modelo  Acurácia  Precisão  Sensibilidade  Especificidade  F1 Score  \\\n",
       "0    GBM  0.902128  0.896825       0.918699        0.883929  0.907631   \n",
       "1    GBM  0.902128  0.896825       0.918699        0.883929  0.907631   \n",
       "\n",
       "        ROC  Log_Loss  mathew_corrcoef  \n",
       "0  0.901314  3.527677         0.803854  \n",
       "1  0.901314  3.527677         0.803854  "
      ]
     },
     "execution_count": 43,
     "metadata": {},
     "output_type": "execute_result"
    }
   ],
   "source": [
    "data = {        'MLP': y_pred_mlp, \n",
    "                'KNN': y_pred_knn, \n",
    "                'EXtra tree classifier': y_pred_et_100,\n",
    "                'XGB': y_pred_xgb, \n",
    "                'SVC': y_pred_svc, \n",
    "                'SGD': y_pred_sgd,\n",
    "                'Adaboost': y_pred_ada, \n",
    "                'CART': y_pred_decc, \n",
    "                'GBM': y_pred_gbm }\n",
    "\n",
    "modelos = pd.DataFrame(data) \n",
    " \n",
    "for column in modelos:\n",
    "    CM=confusion_matrix(y_test,modelos[column])\n",
    "    \n",
    "    TN = CM[0][0]\n",
    "    FN = CM[1][0]\n",
    "    TP = CM[1][1]\n",
    "    FP = CM[0][1]\n",
    "    especificidade = TN/(TN+FP)\n",
    "    loss_log = log_loss(y_test, modelos[column])\n",
    "    acc= accuracy_score(y_test, modelos[column])\n",
    "    roc=roc_auc_score(y_test, modelos[column])\n",
    "    prec = precision_score(y_test, modelos[column])\n",
    "    rec = recall_score(y_test, modelos[column])\n",
    "    f1 = f1_score(y_test, modelos[column])\n",
    "    \n",
    "    mathew = matthews_corrcoef(y_test, modelos[column])\n",
    "    resultados =pd.DataFrame([[column,acc, prec,rec,especificidade, f1,roc, loss_log,mathew]],\n",
    "               columns = ['Modelo', 'Acurácia','Precisão', 'Sensibilidade','Especificidade', 'F1 Score','ROC','Log_Loss','mathew_corrcoef'])\n",
    "    resultados_modelo = resultados.append(resultados, ignore_index = True)\n",
    "\n",
    "resultados_modelo\n"
   ]
  },
  {
   "cell_type": "markdown",
   "metadata": {},
   "source": [
    "### Conclusões\n",
    "* Como pode ser observado nos resultados acima, o classificador XGBoost se destaca como o de melhor desempenho, apresentando a maior acurácia de teste (0,9191), sensibilidade (0,943), especificidade (0,89), além do maior F1-score (0,9243) e o menor Log Loss (0,2079)."
   ]
  },
  {
   "cell_type": "markdown",
   "metadata": {},
   "source": [
    "### Curva ROC AUC "
   ]
  },
  {
   "cell_type": "code",
   "execution_count": 44,
   "metadata": {},
   "outputs": [
    {
     "data": {
      "image/png": "[encoded data removed]",
      "text/plain": [
       "<Figure size 1200x800 with 1 Axes>"
      ]
     },
     "metadata": {},
     "output_type": "display_data"
    }
   ],
   "source": [
    "def roc_auc_plot(y_true, y_proba, label=' ', l='-', lw=1.0):\n",
    "    fpr, tpr, _ = roc_curve(y_true, y_proba[:,1])\n",
    "    ax.plot(fpr, tpr, linestyle=l, linewidth=lw,\n",
    "            label=\"%s (area=%.3f)\"%(label,roc_auc_score(y_true, y_proba[:,1])))\n",
    "\n",
    "f, ax = plt.subplots(figsize=(12,8))\n",
    "\n",
    "\n",
    "roc_auc_plot(y_test,rf_ent.predict_proba(X_test),label='Random Forest Classifier ',l='-')\n",
    "roc_auc_plot(y_test,et_100.predict_proba(X_test),label='Extra Tree Classifier ',l='-')\n",
    "roc_auc_plot(y_test,xgb.predict_proba(X_test),label='XGboost',l='-')\n",
    "\n",
    "ax.plot([0,1], [0,1], color='k', linewidth=0.5, linestyle='--', \n",
    "        )    \n",
    "ax.legend(loc=\"lower right\")    \n",
    "ax.set_xlabel('Taxa de Falso Positivo')\n",
    "ax.set_ylabel('Taxa de Verdadeiro Positivo')\n",
    "ax.set_xlim([0, 1])\n",
    "ax.set_ylim([0, 1])\n",
    "ax.set_title('Curvas ROC')\n",
    "sns.despine()"
   ]
  },
  {
   "cell_type": "markdown",
   "metadata": {},
   "source": [
    "Observa-se que a maior área média sob a curva (AUC), de 0,950, é alcançada pelo Extra Tree Classifier.\n",
    "\n"
   ]
  },
  {
   "cell_type": "markdown",
   "metadata": {},
   "source": [
    "## Curva Precision Recall "
   ]
  },
  {
   "cell_type": "code",
   "execution_count": 45,
   "metadata": {},
   "outputs": [
    {
     "data": {
      "image/png": "[encoded data removed]",
      "text/plain": [
       "<Figure size 1400x1000 with 1 Axes>"
      ]
     },
     "metadata": {},
     "output_type": "display_data"
    }
   ],
   "source": [
    "def precision_recall_plot(y_true, y_proba, label=' ', l='-', lw=1.0):\n",
    "    precisao, recall, _ = precision_recall_curve(y_test,\n",
    "                                                  y_proba[:,1])\n",
    "    media_precisao = average_precision_score(y_test, y_proba[:,1],\n",
    "                                                     average=\"micro\")\n",
    "    ax.plot(recall, precisao, label='%s (average=%.3f)'%(label,media_precisao),\n",
    "            linestyle=l, linewidth=lw)\n",
    "\n",
    "f, ax = plt.subplots(figsize=(14,10))\n",
    "\n",
    "precision_recall_plot(y_test,rf_ent.predict_proba(X_test),label='Random Forest Classifier ',l='-')\n",
    "precision_recall_plot(y_test,et_100.predict_proba(X_test),label='Extra Tree Classifier ',l='-')\n",
    "precision_recall_plot(y_test,xgb.predict_proba(X_test),label='XGboost',l='-')\n",
    "ax.set_xlabel('Recall')\n",
    "ax.set_ylabel('Precisao')\n",
    "ax.legend(loc=\"lower left\")\n",
    "ax.grid(True)\n",
    "ax.set_xlim([0, 1])\n",
    "ax.set_ylim([0, 1])\n",
    "ax.set_title('Curvas Precision Recall')\n",
    "sns.despine()"
   ]
  },
  {
   "cell_type": "markdown",
   "metadata": {},
   "source": [
    "## 10. **Seleção de Atributos**<a id='model-atrib'></a>\n",
    "\n",
    "* A seleção de atributos será realizada para identificar as características mais relevantes para a previsão de doenças cardíacas. Diferentes métodos de seleção serão utilizados, como correlação de Pearson, teste qui-quadrado, Recursive Feature Elimination (RFE) e seleção de atributos embutida em modelos."
   ]
  },
  {
   "cell_type": "code",
   "execution_count": 46,
   "metadata": {},
   "outputs": [
    {
     "name": "stdout",
     "output_type": "stream",
     "text": [
      "11 atributos selecionados\n"
     ]
    }
   ],
   "source": [
    "num_atrib=11\n",
    "\n",
    "def seletor_cor(X, y,num_atrib):\n",
    "    cor_lista = []\n",
    "    nome_atributo = X.columns.tolist()\n",
    "    # calcula a correlação com y\n",
    "    for i in X.columns.tolist():\n",
    "        cor = np.corrcoef(X[i], y)[0, 1]\n",
    "        cor_lista.append(cor)\n",
    "    # replace NaN with 0\n",
    "    cor_lista = [0 if np.isnan(i) else i for i in cor_lista]\n",
    "    # fnome do atributo\n",
    "    cor_atributo = X.iloc[:,np.argsort(np.abs(cor_lista))[-num_atrib:]].columns.tolist()\n",
    "    # seleção de atributo? 0 para não, 1 sim\n",
    "    cor_suporte = [True if i in cor_atributo else False for i in nome_atributo]\n",
    "    return cor_suporte, cor_atributo\n",
    "cor_suporte, cor_atributo = seletor_cor(X, y,num_atrib)\n",
    "print(str(len(cor_atributo)), 'atributos selecionados')"
   ]
  },
  {
   "cell_type": "code",
   "execution_count": 47,
   "metadata": {},
   "outputs": [
    {
     "name": "stdout",
     "output_type": "stream",
     "text": [
      "11 atributos selecionados\n"
     ]
    }
   ],
   "source": [
    "X_norm = MinMaxScaler().fit_transform(X)\n",
    "chi_seletor = SelectKBest(chi2, k=num_atrib)\n",
    "chi_seletor.fit(X_norm, y)\n",
    "chi_suporte = chi_seletor.get_support()\n",
    "chi_atributo = X.loc[:,chi_suporte].columns.tolist()\n",
    "print(str(len(chi_atributo)), 'atributos selecionados')"
   ]
  },
  {
   "cell_type": "code",
   "execution_count": 48,
   "metadata": {},
   "outputs": [
    {
     "name": "stdout",
     "output_type": "stream",
     "text": [
      "Fitting estimator with 15 features.\n",
      "11 atributos selecionado\n"
     ]
    }
   ],
   "source": [
    "\n",
    "rfe_seletor = RFE(estimator=LogisticRegression(), n_features_to_select=num_atrib, step=10, verbose=5)\n",
    "rfe_seletor.fit(X_norm, y)\n",
    "rfe_suporte = rfe_seletor.get_support()\n",
    "rfe_atributo = X.loc[:,rfe_suporte].columns.tolist()\n",
    "print(str(len(rfe_atributo)), 'atributos selecionado')"
   ]
  },
  {
   "cell_type": "code",
   "execution_count": 49,
   "metadata": {},
   "outputs": [
    {
     "name": "stdout",
     "output_type": "stream",
     "text": [
      "8 características selecionadas\n"
     ]
    }
   ],
   "source": [
    "seletor_lr_embutido = SelectFromModel(LogisticRegression(penalty=\"l2\", solver='lbfgs'), max_features=num_atrib)\n",
    "seletor_lr_embutido.fit(X_norm, y)\n",
    "\n",
    "suporte_lr_embutido = seletor_lr_embutido.get_support()\n",
    "caracteristica_lr_embutida = X.loc[:,suporte_lr_embutido].columns.tolist()\n",
    "print(str(len(caracteristica_lr_embutida)), 'características selecionadas')"
   ]
  },
  {
   "cell_type": "code",
   "execution_count": 50,
   "metadata": {},
   "outputs": [
    {
     "name": "stdout",
     "output_type": "stream",
     "text": [
      "9 características selecionadas\n"
     ]
    }
   ],
   "source": [
    "seletor_rf_embutido = SelectFromModel(RandomForestClassifier(n_estimators=100, criterion='gini'), max_features=num_atrib)\n",
    "seletor_rf_embutido.fit(X, y)\n",
    "\n",
    "suporte_rf_embutido = seletor_rf_embutido.get_support()\n",
    "caracteristica_rf_embutida = X.loc[:,suporte_rf_embutido].columns.tolist()\n",
    "print(str(len(caracteristica_rf_embutida)), 'características selecionadas')"
   ]
  },
  {
   "cell_type": "code",
   "execution_count": 51,
   "metadata": {},
   "outputs": [
    {
     "name": "stdout",
     "output_type": "stream",
     "text": [
      "6 características selecionadas\n",
      "['cholesterol', 'max_heart_rate_achieved', 'st_depression', 'chest_pain_type_assintomático', 'st_slope_cima', 'st_slope_plana']\n"
     ]
    }
   ],
   "source": [
    "\n",
    "# Separar características e alvo\n",
    "X = dt.drop('target', axis=1)\n",
    "y = dt['target']\n",
    "\n",
    "# Assumindo que num_atrib foi definido em algum lugar anterior no código\n",
    "\n",
    "num_atrib = 6  \n",
    "# Criar e ajustar o RandomForestClassifier\n",
    "\n",
    "rf = RandomForestClassifier(n_estimators=100, random_state=semente)  \n",
    "rf.fit(X, y)\n",
    "\n",
    "# Usar SelectFromModel \n",
    "seletor_rf_embutido = SelectFromModel(rf, max_features=num_atrib)\n",
    "seletor_rf_embutido.fit(X, y)\n",
    "\n",
    "# Get the selected features\n",
    "suporte_rf_embutido = seletor_rf_embutido.get_support()\n",
    "caracteristica_rf_embutida = X.loc[:, suporte_rf_embutido].columns.tolist()\n",
    "\n",
    "# Print the number and list of selected features\n",
    "print(str(len(caracteristica_rf_embutida)), 'características selecionadas')\n",
    "print(caracteristica_rf_embutida)"
   ]
  },
  {
   "cell_type": "code",
   "execution_count": 52,
   "metadata": {},
   "outputs": [
    {
     "data": {
      "text/html": [
       "<div>\n",
       "<style scoped>\n",
       "    .dataframe tbody tr th:only-of-type {\n",
       "        vertical-align: middle;\n",
       "    }\n",
       "\n",
       "    .dataframe tbody tr th {\n",
       "        vertical-align: top;\n",
       "    }\n",
       "\n",
       "    .dataframe thead th {\n",
       "        text-align: right;\n",
       "    }\n",
       "</style>\n",
       "<table border=\"1\" class=\"dataframe\">\n",
       "  <thead>\n",
       "    <tr style=\"text-align: right;\">\n",
       "      <th></th>\n",
       "      <th>Caracteristica</th>\n",
       "      <th>Pearson</th>\n",
       "      <th>Chi-2</th>\n",
       "      <th>RFE</th>\n",
       "      <th>Logistics</th>\n",
       "      <th>Random Forest</th>\n",
       "      <th>Total</th>\n",
       "    </tr>\n",
       "  </thead>\n",
       "  <tbody>\n",
       "    <tr>\n",
       "      <th>1</th>\n",
       "      <td>st_slope_plana</td>\n",
       "      <td>True</td>\n",
       "      <td>True</td>\n",
       "      <td>True</td>\n",
       "      <td>True</td>\n",
       "      <td>True</td>\n",
       "      <td>5</td>\n",
       "    </tr>\n",
       "    <tr>\n",
       "      <th>2</th>\n",
       "      <td>st_slope_cima</td>\n",
       "      <td>True</td>\n",
       "      <td>True</td>\n",
       "      <td>True</td>\n",
       "      <td>True</td>\n",
       "      <td>True</td>\n",
       "      <td>5</td>\n",
       "    </tr>\n",
       "    <tr>\n",
       "      <th>3</th>\n",
       "      <td>st_depression</td>\n",
       "      <td>True</td>\n",
       "      <td>True</td>\n",
       "      <td>True</td>\n",
       "      <td>True</td>\n",
       "      <td>True</td>\n",
       "      <td>5</td>\n",
       "    </tr>\n",
       "    <tr>\n",
       "      <th>4</th>\n",
       "      <td>chest_pain_type_assintomático</td>\n",
       "      <td>True</td>\n",
       "      <td>True</td>\n",
       "      <td>True</td>\n",
       "      <td>True</td>\n",
       "      <td>True</td>\n",
       "      <td>5</td>\n",
       "    </tr>\n",
       "    <tr>\n",
       "      <th>5</th>\n",
       "      <td>sex_masculino</td>\n",
       "      <td>True</td>\n",
       "      <td>True</td>\n",
       "      <td>True</td>\n",
       "      <td>True</td>\n",
       "      <td>False</td>\n",
       "      <td>4</td>\n",
       "    </tr>\n",
       "    <tr>\n",
       "      <th>6</th>\n",
       "      <td>max_heart_rate_achieved</td>\n",
       "      <td>True</td>\n",
       "      <td>True</td>\n",
       "      <td>True</td>\n",
       "      <td>False</td>\n",
       "      <td>True</td>\n",
       "      <td>4</td>\n",
       "    </tr>\n",
       "  </tbody>\n",
       "</table>\n",
       "</div>"
      ],
      "text/plain": [
       "                  Caracteristica  Pearson  Chi-2   RFE  Logistics  \\\n",
       "1                 st_slope_plana     True   True  True       True   \n",
       "2                  st_slope_cima     True   True  True       True   \n",
       "3                  st_depression     True   True  True       True   \n",
       "4  chest_pain_type_assintomático     True   True  True       True   \n",
       "5                  sex_masculino     True   True  True       True   \n",
       "6        max_heart_rate_achieved     True   True  True      False   \n",
       "\n",
       "   Random Forest  Total  \n",
       "1           True      5  \n",
       "2           True      5  \n",
       "3           True      5  \n",
       "4           True      5  \n",
       "5          False      4  \n",
       "6           True      4  "
      ]
     },
     "metadata": {},
     "output_type": "display_data"
    }
   ],
   "source": [
    "\n",
    "# Define nome_caracteristica\n",
    "nome_caracteristica = X.columns\n",
    "\n",
    "# Create the DataFrame\n",
    "selecao_caracteristica_df = pd.DataFrame({'Caracteristica':nome_caracteristica, \n",
    "                                          'Pearson':cor_suporte, \n",
    "                                          'Chi-2':chi_suporte, \n",
    "                                          'RFE':rfe_suporte, \n",
    "                                          'Logistics':suporte_lr_embutido, \n",
    "                                          'Random Forest':suporte_rf_embutido})\n",
    "\n",
    "# calcula a coluna 'total\n",
    "selecao_caracteristica_df['Total'] = np.sum(selecao_caracteristica_df, axis=1)\n",
    "\n",
    "# Sort the DataFrame\n",
    "selecao_caracteristica_df = selecao_caracteristica_df.sort_values(['Total','Caracteristica'] , ascending=False)\n",
    "\n",
    "# Reset the index\n",
    "selecao_caracteristica_df.index = range(1, len(selecao_caracteristica_df)+1)\n",
    "\n",
    "# Display the top features\n",
    "display(selecao_caracteristica_df.head(num_atrib))"
   ]
  },
  {
   "cell_type": "code",
   "execution_count": 53,
   "metadata": {},
   "outputs": [],
   "source": [
    "X = dt.drop(['target','resting_blood_pressure','sex_masculino','chest_pain_type_dor não anginosa'],axis=1)\n",
    "y = dt['target']"
   ]
  },
  {
   "cell_type": "code",
   "execution_count": 54,
   "metadata": {},
   "outputs": [],
   "source": [
    "X_train, X_test, y_train, y_test = train_test_split(X, y, stratify=y, test_size=0.2,shuffle=True, random_state=semente)"
   ]
  },
  {
   "cell_type": "code",
   "execution_count": 55,
   "metadata": {},
   "outputs": [
    {
     "data": {
      "text/html": [
       "<div>\n",
       "<style scoped>\n",
       "    .dataframe tbody tr th:only-of-type {\n",
       "        vertical-align: middle;\n",
       "    }\n",
       "\n",
       "    .dataframe tbody tr th {\n",
       "        vertical-align: top;\n",
       "    }\n",
       "\n",
       "    .dataframe thead th {\n",
       "        text-align: right;\n",
       "    }\n",
       "</style>\n",
       "<table border=\"1\" class=\"dataframe\">\n",
       "  <thead>\n",
       "    <tr style=\"text-align: right;\">\n",
       "      <th></th>\n",
       "      <th>age</th>\n",
       "      <th>cholesterol</th>\n",
       "      <th>fasting_blood_sugar</th>\n",
       "      <th>max_heart_rate_achieved</th>\n",
       "      <th>exercise_induced_angina</th>\n",
       "      <th>st_depression</th>\n",
       "      <th>chest_pain_type_angina típica</th>\n",
       "      <th>chest_pain_type_assintomático</th>\n",
       "      <th>rest_ecg_hipertrofia ventricular esquerda</th>\n",
       "      <th>rest_ecg_normal</th>\n",
       "      <th>st_slope_cima</th>\n",
       "      <th>st_slope_plana</th>\n",
       "    </tr>\n",
       "  </thead>\n",
       "  <tbody>\n",
       "    <tr>\n",
       "      <th>79</th>\n",
       "      <td>0.428571</td>\n",
       "      <td>0.419552</td>\n",
       "      <td>0</td>\n",
       "      <td>0.762963</td>\n",
       "      <td>0</td>\n",
       "      <td>0.295455</td>\n",
       "      <td>0</td>\n",
       "      <td>1</td>\n",
       "      <td>0</td>\n",
       "      <td>1</td>\n",
       "      <td>0</td>\n",
       "      <td>1</td>\n",
       "    </tr>\n",
       "    <tr>\n",
       "      <th>134</th>\n",
       "      <td>0.673469</td>\n",
       "      <td>0.598778</td>\n",
       "      <td>0</td>\n",
       "      <td>0.392593</td>\n",
       "      <td>1</td>\n",
       "      <td>0.409091</td>\n",
       "      <td>0</td>\n",
       "      <td>1</td>\n",
       "      <td>0</td>\n",
       "      <td>0</td>\n",
       "      <td>0</td>\n",
       "      <td>1</td>\n",
       "    </tr>\n",
       "    <tr>\n",
       "      <th>999</th>\n",
       "      <td>0.489796</td>\n",
       "      <td>0.378819</td>\n",
       "      <td>0</td>\n",
       "      <td>0.911111</td>\n",
       "      <td>0</td>\n",
       "      <td>0.295455</td>\n",
       "      <td>1</td>\n",
       "      <td>0</td>\n",
       "      <td>1</td>\n",
       "      <td>0</td>\n",
       "      <td>0</td>\n",
       "      <td>1</td>\n",
       "    </tr>\n",
       "    <tr>\n",
       "      <th>976</th>\n",
       "      <td>0.469388</td>\n",
       "      <td>0.521385</td>\n",
       "      <td>0</td>\n",
       "      <td>0.607407</td>\n",
       "      <td>0</td>\n",
       "      <td>0.352273</td>\n",
       "      <td>0</td>\n",
       "      <td>0</td>\n",
       "      <td>1</td>\n",
       "      <td>0</td>\n",
       "      <td>1</td>\n",
       "      <td>0</td>\n",
       "    </tr>\n",
       "    <tr>\n",
       "      <th>1097</th>\n",
       "      <td>0.183673</td>\n",
       "      <td>0.437882</td>\n",
       "      <td>0</td>\n",
       "      <td>0.762963</td>\n",
       "      <td>0</td>\n",
       "      <td>0.295455</td>\n",
       "      <td>0</td>\n",
       "      <td>0</td>\n",
       "      <td>0</td>\n",
       "      <td>1</td>\n",
       "      <td>1</td>\n",
       "      <td>0</td>\n",
       "    </tr>\n",
       "  </tbody>\n",
       "</table>\n",
       "</div>"
      ],
      "text/plain": [
       "           age  cholesterol  fasting_blood_sugar  max_heart_rate_achieved  \\\n",
       "79    0.428571     0.419552                    0                 0.762963   \n",
       "134   0.673469     0.598778                    0                 0.392593   \n",
       "999   0.489796     0.378819                    0                 0.911111   \n",
       "976   0.469388     0.521385                    0                 0.607407   \n",
       "1097  0.183673     0.437882                    0                 0.762963   \n",
       "\n",
       "      exercise_induced_angina  st_depression  chest_pain_type_angina típica  \\\n",
       "79                          0       0.295455                              0   \n",
       "134                         1       0.409091                              0   \n",
       "999                         0       0.295455                              1   \n",
       "976                         0       0.352273                              0   \n",
       "1097                        0       0.295455                              0   \n",
       "\n",
       "      chest_pain_type_assintomático  \\\n",
       "79                                1   \n",
       "134                               1   \n",
       "999                               0   \n",
       "976                               0   \n",
       "1097                              0   \n",
       "\n",
       "      rest_ecg_hipertrofia ventricular esquerda  rest_ecg_normal  \\\n",
       "79                                            0                1   \n",
       "134                                           0                0   \n",
       "999                                           1                0   \n",
       "976                                           1                0   \n",
       "1097                                          0                1   \n",
       "\n",
       "      st_slope_cima  st_slope_plana  \n",
       "79                0               1  \n",
       "134               0               1  \n",
       "999               0               1  \n",
       "976               1               0  \n",
       "1097              1               0  "
      ]
     },
     "execution_count": 55,
     "metadata": {},
     "output_type": "execute_result"
    }
   ],
   "source": [
    "escalar = MinMaxScaler()\n",
    "X_train[['age','cholesterol','max_heart_rate_achieved','st_depression']] = escalar.fit_transform(X_train[['age','cholesterol','max_heart_rate_achieved','st_depression']])\n",
    "X_train.head()"
   ]
  },
  {
   "cell_type": "code",
   "execution_count": 56,
   "metadata": {},
   "outputs": [
    {
     "data": {
      "text/html": [
       "<div>\n",
       "<style scoped>\n",
       "    .dataframe tbody tr th:only-of-type {\n",
       "        vertical-align: middle;\n",
       "    }\n",
       "\n",
       "    .dataframe tbody tr th {\n",
       "        vertical-align: top;\n",
       "    }\n",
       "\n",
       "    .dataframe thead th {\n",
       "        text-align: right;\n",
       "    }\n",
       "</style>\n",
       "<table border=\"1\" class=\"dataframe\">\n",
       "  <thead>\n",
       "    <tr style=\"text-align: right;\">\n",
       "      <th></th>\n",
       "      <th>age</th>\n",
       "      <th>cholesterol</th>\n",
       "      <th>fasting_blood_sugar</th>\n",
       "      <th>max_heart_rate_achieved</th>\n",
       "      <th>exercise_induced_angina</th>\n",
       "      <th>st_depression</th>\n",
       "      <th>chest_pain_type_angina típica</th>\n",
       "      <th>chest_pain_type_assintomático</th>\n",
       "      <th>rest_ecg_hipertrofia ventricular esquerda</th>\n",
       "      <th>rest_ecg_normal</th>\n",
       "      <th>st_slope_cima</th>\n",
       "      <th>st_slope_plana</th>\n",
       "    </tr>\n",
       "  </thead>\n",
       "  <tbody>\n",
       "    <tr>\n",
       "      <th>1050</th>\n",
       "      <td>0.612245</td>\n",
       "      <td>0.505092</td>\n",
       "      <td>0</td>\n",
       "      <td>0.407407</td>\n",
       "      <td>0</td>\n",
       "      <td>0.409091</td>\n",
       "      <td>0</td>\n",
       "      <td>1</td>\n",
       "      <td>1</td>\n",
       "      <td>0</td>\n",
       "      <td>0</td>\n",
       "      <td>1</td>\n",
       "    </tr>\n",
       "    <tr>\n",
       "      <th>1055</th>\n",
       "      <td>0.142857</td>\n",
       "      <td>0.574338</td>\n",
       "      <td>0</td>\n",
       "      <td>0.659259</td>\n",
       "      <td>1</td>\n",
       "      <td>0.295455</td>\n",
       "      <td>0</td>\n",
       "      <td>1</td>\n",
       "      <td>1</td>\n",
       "      <td>0</td>\n",
       "      <td>1</td>\n",
       "      <td>0</td>\n",
       "    </tr>\n",
       "    <tr>\n",
       "      <th>1154</th>\n",
       "      <td>0.632653</td>\n",
       "      <td>0.443992</td>\n",
       "      <td>1</td>\n",
       "      <td>0.496296</td>\n",
       "      <td>0</td>\n",
       "      <td>0.545455</td>\n",
       "      <td>0</td>\n",
       "      <td>0</td>\n",
       "      <td>0</td>\n",
       "      <td>1</td>\n",
       "      <td>0</td>\n",
       "      <td>1</td>\n",
       "    </tr>\n",
       "    <tr>\n",
       "      <th>214</th>\n",
       "      <td>0.571429</td>\n",
       "      <td>0.446029</td>\n",
       "      <td>0</td>\n",
       "      <td>0.718519</td>\n",
       "      <td>0</td>\n",
       "      <td>0.295455</td>\n",
       "      <td>0</td>\n",
       "      <td>0</td>\n",
       "      <td>0</td>\n",
       "      <td>0</td>\n",
       "      <td>1</td>\n",
       "      <td>0</td>\n",
       "    </tr>\n",
       "    <tr>\n",
       "      <th>541</th>\n",
       "      <td>0.693878</td>\n",
       "      <td>0.415479</td>\n",
       "      <td>0</td>\n",
       "      <td>0.407407</td>\n",
       "      <td>1</td>\n",
       "      <td>0.431818</td>\n",
       "      <td>0</td>\n",
       "      <td>0</td>\n",
       "      <td>0</td>\n",
       "      <td>0</td>\n",
       "      <td>0</td>\n",
       "      <td>1</td>\n",
       "    </tr>\n",
       "  </tbody>\n",
       "</table>\n",
       "</div>"
      ],
      "text/plain": [
       "           age  cholesterol  fasting_blood_sugar  max_heart_rate_achieved  \\\n",
       "1050  0.612245     0.505092                    0                 0.407407   \n",
       "1055  0.142857     0.574338                    0                 0.659259   \n",
       "1154  0.632653     0.443992                    1                 0.496296   \n",
       "214   0.571429     0.446029                    0                 0.718519   \n",
       "541   0.693878     0.415479                    0                 0.407407   \n",
       "\n",
       "      exercise_induced_angina  st_depression  chest_pain_type_angina típica  \\\n",
       "1050                        0       0.409091                              0   \n",
       "1055                        1       0.295455                              0   \n",
       "1154                        0       0.545455                              0   \n",
       "214                         0       0.295455                              0   \n",
       "541                         1       0.431818                              0   \n",
       "\n",
       "      chest_pain_type_assintomático  \\\n",
       "1050                              1   \n",
       "1055                              1   \n",
       "1154                              0   \n",
       "214                               0   \n",
       "541                               0   \n",
       "\n",
       "      rest_ecg_hipertrofia ventricular esquerda  rest_ecg_normal  \\\n",
       "1050                                          1                0   \n",
       "1055                                          1                0   \n",
       "1154                                          0                1   \n",
       "214                                           0                0   \n",
       "541                                           0                0   \n",
       "\n",
       "      st_slope_cima  st_slope_plana  \n",
       "1050              0               1  \n",
       "1055              1               0  \n",
       "1154              0               1  \n",
       "214               1               0  \n",
       "541               0               1  "
      ]
     },
     "execution_count": 56,
     "metadata": {},
     "output_type": "execute_result"
    }
   ],
   "source": [
    "X_test[['age','cholesterol','max_heart_rate_achieved','st_depression']] = escalar.transform(X_test[['age','cholesterol','max_heart_rate_achieved','st_depression']])\n",
    "X_test.head()"
   ]
  },
  {
   "cell_type": "code",
   "execution_count": 59,
   "metadata": {},
   "outputs": [
    {
     "name": "stdout",
     "output_type": "stream",
     "text": [
      "LR_L2: 0.837783 (0.037008)\n",
      "LDA: 0.832453 (0.036648)\n",
      "KNN7: 0.827122 (0.035782)\n",
      "KNN5: 0.818634 (0.046739)\n",
      "KNN9: 0.822855 (0.030458)\n",
      "KNN11: 0.830279 (0.031257)\n",
      "CART: 0.867673 (0.028972)\n",
      "NB: 0.840975 (0.033282)\n",
      "SVM Linear: 0.828163 (0.033700)\n",
      "SVM RBF: 0.818623 (0.041651)\n",
      "AB: 0.822855 (0.039001)\n",
      "GBM: 0.855960 (0.030100)\n",
      "RF_Ent100: 0.916792 (0.029211)\n",
      "RF_Gini100: 0.909334 (0.029321)\n",
      "ET100: 0.906108 (0.028791)\n",
      "ET500: 0.897609 (0.030365)\n",
      "MLP: 0.839888 (0.036833)\n",
      "SGD3000: 0.776985 (0.048035)\n",
      "XGB_2000: 0.898685 (0.028464)\n",
      "XGB_500: 0.905067 (0.031963)\n",
      "XGB_100: 0.903981 (0.025959)\n",
      "XGB_1000: 0.904004 (0.034852)\n",
      "ET1000: 0.898673 (0.030393)\n"
     ]
    }
   ],
   "source": [
    "modelos = ObterModelosBase()\n",
    "nomes,resultados = LinhaBase2(X_train, y_train,modelos)"
   ]
  },
  {
   "cell_type": "markdown",
   "metadata": {},
   "source": [
    "## Soft voting"
   ]
  },
  {
   "cell_type": "code",
   "execution_count": 60,
   "metadata": {},
   "outputs": [],
   "source": [
    "clf1=RandomForestClassifier(criterion='entropy',n_estimators=100)\n",
    "\n",
    "clf2=DecisionTreeClassifier()\n",
    "clf3=xgb.XGBClassifier(n_estimators= 1000)\n",
    "clf4=ExtraTreesClassifier(n_estimators= 500)\n",
    "\n",
    "clf5=GradientBoostingClassifier(n_estimators=100,max_features='sqrt')\n",
    "\n",
    "\n",
    "eclf1 = VotingClassifier(estimators=[('rfe', clf1), ('decc', clf2), ('xgb', clf3),('ET',clf4),('gb',clf5),], \n",
    "                         voting='soft', weights=[4,1,2,3,1])\n",
    "eclf1.fit(X_train,y_train)\n",
    "y_pred_sv =eclf1.predict(X_test)"
   ]
  },
  {
   "cell_type": "markdown",
   "metadata": {},
   "source": [
    "## 11. **Avaliação de Modelo**<a id='model-inter'></a>\n",
    "\n",
    "* Nesta seção, o modelo final selecionado após a etapa de seleção de atributos será avaliado. Novamente, serão utilizadas as métricas de desempenho mencionadas anteriormente."
   ]
  },
  {
   "cell_type": "code",
   "execution_count": 61,
   "metadata": {},
   "outputs": [
    {
     "data": {
      "text/html": [
       "<div>\n",
       "<style scoped>\n",
       "    .dataframe tbody tr th:only-of-type {\n",
       "        vertical-align: middle;\n",
       "    }\n",
       "\n",
       "    .dataframe tbody tr th {\n",
       "        vertical-align: top;\n",
       "    }\n",
       "\n",
       "    .dataframe thead th {\n",
       "        text-align: right;\n",
       "    }\n",
       "</style>\n",
       "<table border=\"1\" class=\"dataframe\">\n",
       "  <thead>\n",
       "    <tr style=\"text-align: right;\">\n",
       "      <th></th>\n",
       "      <th>Modelo</th>\n",
       "      <th>Acurácia</th>\n",
       "      <th>Precisão</th>\n",
       "      <th>Sensibilidade</th>\n",
       "      <th>Especificidade</th>\n",
       "      <th>F1 Score</th>\n",
       "      <th>ROC</th>\n",
       "      <th>Log_Loss</th>\n",
       "      <th>mathew_corrcoef</th>\n",
       "    </tr>\n",
       "  </thead>\n",
       "  <tbody>\n",
       "    <tr>\n",
       "      <th>0</th>\n",
       "      <td>Soft Voting</td>\n",
       "      <td>0.931915</td>\n",
       "      <td>0.934959</td>\n",
       "      <td>0.934959</td>\n",
       "      <td>0.928571</td>\n",
       "      <td>0.934959</td>\n",
       "      <td>0.931765</td>\n",
       "      <td>2.454036</td>\n",
       "      <td>0.863531</td>\n",
       "    </tr>\n",
       "  </tbody>\n",
       "</table>\n",
       "</div>"
      ],
      "text/plain": [
       "        Modelo  Acurácia  Precisão  Sensibilidade  Especificidade  F1 Score  \\\n",
       "0  Soft Voting  0.931915  0.934959       0.934959        0.928571  0.934959   \n",
       "\n",
       "        ROC  Log_Loss  mathew_corrcoef  \n",
       "0  0.931765  2.454036         0.863531  "
      ]
     },
     "execution_count": 61,
     "metadata": {},
     "output_type": "execute_result"
    },
    {
     "data": {
      "image/png": "[encoded data removed]",
      "text/plain": [
       "<Figure size 640x480 with 2 Axes>"
      ]
     },
     "metadata": {},
     "output_type": "display_data"
    }
   ],
   "source": [
    "CM=confusion_matrix(y_test,y_pred_sv)\n",
    "sns.heatmap(CM, annot=True)\n",
    "\n",
    "TN = CM[0][0]\n",
    "FN = CM[1][0]\n",
    "TP = CM[1][1]\n",
    "FP = CM[0][1]\n",
    "especificidade = TN/(TN+FP)\n",
    "loss_log = log_loss(y_test, y_pred_sv)\n",
    "acc= accuracy_score(y_test, y_pred_sv)\n",
    "roc=roc_auc_score(y_test, y_pred_sv)\n",
    "prec = precision_score(y_test, y_pred_sv)\n",
    "rec = recall_score(y_test, y_pred_sv)\n",
    "f1 = f1_score(y_test, y_pred_sv)\n",
    "\n",
    "mathew = matthews_corrcoef(y_test, y_pred_sv)\n",
    "resultados_modelo =pd.DataFrame([['Soft Voting',acc, prec,rec,especificidade, f1,roc, loss_log,mathew]],\n",
    "               columns = ['Modelo', 'Acurácia','Precisão', 'Sensibilidade','Especificidade', 'F1 Score','ROC','Log_Loss','mathew_corrcoef'])\n",
    "\n",
    "resultados_modelo"
   ]
  },
  {
   "cell_type": "code",
   "execution_count": 62,
   "metadata": {},
   "outputs": [],
   "source": [
    "rf_ent = RandomForestClassifier(criterion='entropy',n_estimators=100)\n",
    "rf_ent.fit(X_train, y_train)\n",
    "y_pred_rfe = rf_ent.predict(X_test)"
   ]
  },
  {
   "cell_type": "code",
   "execution_count": 63,
   "metadata": {},
   "outputs": [],
   "source": [
    "mlp = MLPClassifier()\n",
    "mlp.fit(X_train,y_train)\n",
    "y_pred_mlp = mlp.predict(X_test)"
   ]
  },
  {
   "cell_type": "code",
   "execution_count": 64,
   "metadata": {},
   "outputs": [],
   "source": [
    "knn = KNeighborsClassifier(9)\n",
    "knn.fit(X_train,y_train)\n",
    "y_pred_knn = knn.predict(X_test)"
   ]
  },
  {
   "cell_type": "code",
   "execution_count": 65,
   "metadata": {},
   "outputs": [],
   "source": [
    "et_1000 = ExtraTreesClassifier(n_estimators= 1000)\n",
    "et_1000.fit(X_train,y_train)\n",
    "y_pred_et1000 = et_1000.predict(X_test)"
   ]
  },
  {
   "cell_type": "code",
   "execution_count": 66,
   "metadata": {},
   "outputs": [],
   "source": [
    "xgb = xgb.XGBClassifier(n_estimators= 1000)\n",
    "xgb.fit(X_train,y_train)\n",
    "y_pred_xgb = xgb.predict(X_test)"
   ]
  },
  {
   "cell_type": "code",
   "execution_count": 67,
   "metadata": {},
   "outputs": [],
   "source": [
    "svc = SVC(kernel='linear',gamma='auto',probability=True)\n",
    "svc.fit(X_train,y_train)\n",
    "y_pred_svc = svc.predict(X_test)"
   ]
  },
  {
   "cell_type": "code",
   "execution_count": 68,
   "metadata": {},
   "outputs": [],
   "source": [
    "sgd = SGDClassifier(max_iter=1000, tol=1e-4)\n",
    "sgd.fit(X_train,y_train)\n",
    "y_pred_sgd = sgd.predict(X_test)"
   ]
  },
  {
   "cell_type": "code",
   "execution_count": 69,
   "metadata": {},
   "outputs": [],
   "source": [
    "ada = AdaBoostClassifier()\n",
    "ada.fit(X_train,y_train)\n",
    "y_pred_ada = ada.predict(X_test)"
   ]
  },
  {
   "cell_type": "code",
   "execution_count": 70,
   "metadata": {},
   "outputs": [],
   "source": [
    "decc = DecisionTreeClassifier()\n",
    "decc.fit(X_train,y_train)\n",
    "y_pred_decc = decc.predict(X_test)"
   ]
  },
  {
   "cell_type": "code",
   "execution_count": 71,
   "metadata": {},
   "outputs": [],
   "source": [
    "gbm = GradientBoostingClassifier(n_estimators=100,max_features='sqrt')\n",
    "gbm.fit(X_train,y_train)\n",
    "y_pred_gbm = gbm.predict(X_test)"
   ]
  },
  {
   "cell_type": "code",
   "execution_count": 72,
   "metadata": {},
   "outputs": [
    {
     "data": {
      "text/html": [
       "<div>\n",
       "<style scoped>\n",
       "    .dataframe tbody tr th:only-of-type {\n",
       "        vertical-align: middle;\n",
       "    }\n",
       "\n",
       "    .dataframe tbody tr th {\n",
       "        vertical-align: top;\n",
       "    }\n",
       "\n",
       "    .dataframe thead th {\n",
       "        text-align: right;\n",
       "    }\n",
       "</style>\n",
       "<table border=\"1\" class=\"dataframe\">\n",
       "  <thead>\n",
       "    <tr style=\"text-align: right;\">\n",
       "      <th></th>\n",
       "      <th>Modelo</th>\n",
       "      <th>Acurácia</th>\n",
       "      <th>Precisão</th>\n",
       "      <th>Sensibilidade</th>\n",
       "      <th>Especificidade</th>\n",
       "      <th>F1 Score</th>\n",
       "      <th>ROC</th>\n",
       "      <th>Log_Loss</th>\n",
       "      <th>mathew_corrcoef</th>\n",
       "    </tr>\n",
       "  </thead>\n",
       "  <tbody>\n",
       "    <tr>\n",
       "      <th>0</th>\n",
       "      <td>Soft Voting</td>\n",
       "      <td>0.931915</td>\n",
       "      <td>0.934959</td>\n",
       "      <td>0.934959</td>\n",
       "      <td>0.928571</td>\n",
       "      <td>0.934959</td>\n",
       "      <td>0.931765</td>\n",
       "      <td>2.454036</td>\n",
       "      <td>0.863531</td>\n",
       "    </tr>\n",
       "    <tr>\n",
       "      <th>1</th>\n",
       "      <td>Random Forest Entropy</td>\n",
       "      <td>0.923404</td>\n",
       "      <td>0.920000</td>\n",
       "      <td>0.934959</td>\n",
       "      <td>0.910714</td>\n",
       "      <td>0.927419</td>\n",
       "      <td>0.922837</td>\n",
       "      <td>2.760790</td>\n",
       "      <td>0.846473</td>\n",
       "    </tr>\n",
       "    <tr>\n",
       "      <th>2</th>\n",
       "      <td>MLP2</td>\n",
       "      <td>0.863830</td>\n",
       "      <td>0.864000</td>\n",
       "      <td>0.878049</td>\n",
       "      <td>0.848214</td>\n",
       "      <td>0.870968</td>\n",
       "      <td>0.863132</td>\n",
       "      <td>4.908072</td>\n",
       "      <td>0.726949</td>\n",
       "    </tr>\n",
       "    <tr>\n",
       "      <th>3</th>\n",
       "      <td>KNN2</td>\n",
       "      <td>0.876596</td>\n",
       "      <td>0.856061</td>\n",
       "      <td>0.918699</td>\n",
       "      <td>0.830357</td>\n",
       "      <td>0.886275</td>\n",
       "      <td>0.874528</td>\n",
       "      <td>4.447940</td>\n",
       "      <td>0.753998</td>\n",
       "    </tr>\n",
       "    <tr>\n",
       "      <th>4</th>\n",
       "      <td>EXtra tree classifier</td>\n",
       "      <td>0.919149</td>\n",
       "      <td>0.919355</td>\n",
       "      <td>0.926829</td>\n",
       "      <td>0.910714</td>\n",
       "      <td>0.923077</td>\n",
       "      <td>0.918772</td>\n",
       "      <td>2.914168</td>\n",
       "      <td>0.837909</td>\n",
       "    </tr>\n",
       "    <tr>\n",
       "      <th>5</th>\n",
       "      <td>XGB2</td>\n",
       "      <td>0.931915</td>\n",
       "      <td>0.942149</td>\n",
       "      <td>0.926829</td>\n",
       "      <td>0.937500</td>\n",
       "      <td>0.934426</td>\n",
       "      <td>0.932165</td>\n",
       "      <td>2.454036</td>\n",
       "      <td>0.863765</td>\n",
       "    </tr>\n",
       "    <tr>\n",
       "      <th>6</th>\n",
       "      <td>SVC2</td>\n",
       "      <td>0.868085</td>\n",
       "      <td>0.865079</td>\n",
       "      <td>0.886179</td>\n",
       "      <td>0.848214</td>\n",
       "      <td>0.875502</td>\n",
       "      <td>0.867197</td>\n",
       "      <td>4.754695</td>\n",
       "      <td>0.735515</td>\n",
       "    </tr>\n",
       "    <tr>\n",
       "      <th>7</th>\n",
       "      <td>SGD2</td>\n",
       "      <td>0.872340</td>\n",
       "      <td>0.884298</td>\n",
       "      <td>0.869919</td>\n",
       "      <td>0.875000</td>\n",
       "      <td>0.877049</td>\n",
       "      <td>0.872459</td>\n",
       "      <td>4.601317</td>\n",
       "      <td>0.744433</td>\n",
       "    </tr>\n",
       "    <tr>\n",
       "      <th>8</th>\n",
       "      <td>Adaboost</td>\n",
       "      <td>0.880851</td>\n",
       "      <td>0.892562</td>\n",
       "      <td>0.878049</td>\n",
       "      <td>0.883929</td>\n",
       "      <td>0.885246</td>\n",
       "      <td>0.880989</td>\n",
       "      <td>4.294563</td>\n",
       "      <td>0.761480</td>\n",
       "    </tr>\n",
       "    <tr>\n",
       "      <th>9</th>\n",
       "      <td>CART</td>\n",
       "      <td>0.889362</td>\n",
       "      <td>0.936937</td>\n",
       "      <td>0.845528</td>\n",
       "      <td>0.937500</td>\n",
       "      <td>0.888889</td>\n",
       "      <td>0.891514</td>\n",
       "      <td>3.987808</td>\n",
       "      <td>0.783370</td>\n",
       "    </tr>\n",
       "    <tr>\n",
       "      <th>10</th>\n",
       "      <td>GBM</td>\n",
       "      <td>0.893617</td>\n",
       "      <td>0.888889</td>\n",
       "      <td>0.910569</td>\n",
       "      <td>0.875000</td>\n",
       "      <td>0.899598</td>\n",
       "      <td>0.892785</td>\n",
       "      <td>3.834431</td>\n",
       "      <td>0.786769</td>\n",
       "    </tr>\n",
       "  </tbody>\n",
       "</table>\n",
       "</div>"
      ],
      "text/plain": [
       "                   Modelo  Acurácia  Precisão  Sensibilidade  Especificidade  \\\n",
       "0             Soft Voting  0.931915  0.934959       0.934959        0.928571   \n",
       "1   Random Forest Entropy  0.923404  0.920000       0.934959        0.910714   \n",
       "2                    MLP2  0.863830  0.864000       0.878049        0.848214   \n",
       "3                    KNN2  0.876596  0.856061       0.918699        0.830357   \n",
       "4   EXtra tree classifier  0.919149  0.919355       0.926829        0.910714   \n",
       "5                    XGB2  0.931915  0.942149       0.926829        0.937500   \n",
       "6                    SVC2  0.868085  0.865079       0.886179        0.848214   \n",
       "7                    SGD2  0.872340  0.884298       0.869919        0.875000   \n",
       "8                Adaboost  0.880851  0.892562       0.878049        0.883929   \n",
       "9                    CART  0.889362  0.936937       0.845528        0.937500   \n",
       "10                    GBM  0.893617  0.888889       0.910569        0.875000   \n",
       "\n",
       "    F1 Score       ROC  Log_Loss  mathew_corrcoef  \n",
       "0   0.934959  0.931765  2.454036         0.863531  \n",
       "1   0.927419  0.922837  2.760790         0.846473  \n",
       "2   0.870968  0.863132  4.908072         0.726949  \n",
       "3   0.886275  0.874528  4.447940         0.753998  \n",
       "4   0.923077  0.918772  2.914168         0.837909  \n",
       "5   0.934426  0.932165  2.454036         0.863765  \n",
       "6   0.875502  0.867197  4.754695         0.735515  \n",
       "7   0.877049  0.872459  4.601317         0.744433  \n",
       "8   0.885246  0.880989  4.294563         0.761480  \n",
       "9   0.888889  0.891514  3.987808         0.783370  \n",
       "10  0.899598  0.892785  3.834431         0.786769  "
      ]
     },
     "execution_count": 72,
     "metadata": {},
     "output_type": "execute_result"
    }
   ],
   "source": [
    "data = {\n",
    "             'Random Forest Entropy': y_pred_rfe, \n",
    "                'MLP2': y_pred_mlp, \n",
    "                'KNN2': y_pred_knn, \n",
    "                'EXtra tree classifier': y_pred_et1000,\n",
    "                'XGB2': y_pred_xgb, \n",
    "                'SVC2': y_pred_svc, \n",
    "                'SGD2': y_pred_sgd,\n",
    "                'Adaboost': y_pred_ada, \n",
    "                'CART': y_pred_decc, \n",
    "                'GBM': y_pred_gbm }\n",
    "\n",
    "modelos = pd.DataFrame(data) \n",
    " \n",
    "for column in modelos:\n",
    "    CM=confusion_matrix(y_test,modelos[column])\n",
    "    \n",
    "    TN = CM[0][0]\n",
    "    FN = CM[1][0]\n",
    "    TP = CM[1][1]\n",
    "    FP = CM[0][1]\n",
    "    especificidade = TN/(TN+FP)\n",
    "    loss_log = log_loss(y_test, modelos[column])\n",
    "    acc= accuracy_score(y_test, modelos[column])\n",
    "    roc=roc_auc_score(y_test, modelos[column])\n",
    "    prec = precision_score(y_test, modelos[column])\n",
    "    rec = recall_score(y_test, modelos[column])\n",
    "    f1 = f1_score(y_test, modelos[column])\n",
    "    \n",
    "    mathew = matthews_corrcoef(y_test, modelos[column])\n",
    "    resultados =pd.DataFrame([[column,acc, prec,rec,especificidade, f1,roc, loss_log,mathew]],\n",
    "               columns = ['Modelo', 'Acurácia','Precisão', 'Sensibilidade','Especificidade', 'F1 Score','ROC','Log_Loss','mathew_corrcoef'])\n",
    "    resultados_modelo = resultados_modelo.append(resultados, ignore_index = True)\n",
    "\n",
    "\n",
    "resultados_modelo"
   ]
  },
  {
   "cell_type": "code",
   "execution_count": null,
   "metadata": {},
   "outputs": [],
   "source": [
    "def roc_auc_plot(y_true, y_proba, label=' ', l='-', lw=1.0):\n",
    "    fpr, tpr, _ = roc_curve(y_true, y_proba[:,1])\n",
    "    ax.plot(fpr, tpr, linestyle=l, linewidth=lw,\n",
    "            label=\"%s (area=%.3f)\"%(label,roc_auc_score(y_true, y_proba[:,1])))\n",
    "\n",
    "f, ax = plt.subplots(figsize=(12,8))\n",
    "\n",
    "roc_auc_plot(y_test,eclf1.predict_proba(X_test),label='Soft Voting Classifier ',l='-')\n",
    "roc_auc_plot(y_test,rf_ent.predict_proba(X_test),label='Random Forest Classifier ',l='-')\n",
    "roc_auc_plot(y_test,et_1000.predict_proba(X_test),label='Extra Tree Classifier ',l='-')\n",
    "roc_auc_plot(y_test,xgb.predict_proba(X_test),label='XGboost',l='-')\n",
    "\n",
    "ax.plot([0,1], [0,1], color='k', linewidth=0.5, linestyle='--', \n",
    "        )    \n",
    "ax.legend(loc=\"lower right\")    \n",
    "ax.set_xlabel('False Positive Rate')\n",
    "ax.set_ylabel('True Positive Rate')\n",
    "ax.set_xlim([0, 1])\n",
    "ax.set_ylim([0, 1])\n",
    "ax.set_title('Curvas ROC')\n",
    "sns.despine()"
   ]
  },
  {
   "cell_type": "code",
   "execution_count": null,
   "metadata": {},
   "outputs": [],
   "source": [
    "def precision_recall_plot(y_true, y_proba, label=' ', l='-', lw=1.0):\n",
    "    precision, recall, _ = precision_recall_curve(y_test,\n",
    "                                                  y_proba[:,1])\n",
    "    average_precision = average_precision_score(y_test, y_proba[:,1],\n",
    "                                                     average=\"micro\")\n",
    "    ax.plot(recall, precision, label='%s (average=%.3f)'%(label,average_precision),\n",
    "            linestyle=l, linewidth=lw)\n",
    "\n",
    "f, ax = plt.subplots(figsize=(14,10))\n",
    "precision_recall_plot(y_test,eclf1.predict_proba(X_test),label='Soft voting classifier ',l='-')\n",
    "precision_recall_plot(y_test,rf_ent.predict_proba(X_test),label='Random Forest Classifier ',l='-')\n",
    "precision_recall_plot(y_test,et_1000.predict_proba(X_test),label='Extra Tree Classifier ',l='-')\n",
    "precision_recall_plot(y_test,xgb.predict_proba(X_test),label='XGboost',l='-')\n",
    "ax.set_xlabel('Recall')\n",
    "ax.set_ylabel('Precisão')\n",
    "ax.legend(loc=\"lower left\")\n",
    "ax.grid(True)\n",
    "ax.set_xlim([0, 1])\n",
    "ax.set_ylim([0, 1])\n",
    "ax.set_title('Precision-recall curves')\n",
    "sns.despine()\n"
   ]
  },
  {
   "cell_type": "markdown",
   "metadata": {},
   "source": [
    "## Importância de Características"
   ]
  },
  {
   "cell_type": "code",
   "execution_count": null,
   "metadata": {},
   "outputs": [],
   "source": [
    "importancia_carac = pd.Series(rf_ent.feature_importances_, index=X_train.columns)\n",
    "importancia_carac.nlargest(20).plot(kind='barh')"
   ]
  },
  {
   "cell_type": "markdown",
   "metadata": {},
   "source": [
    "### Baseado no F1 Score, O Melhor Modelo é"
   ]
  },
  {
   "cell_type": "code",
   "execution_count": null,
   "metadata": {
    "tags": []
   },
   "outputs": [],
   "source": [
    "best_model_row = resultados_modelo.loc[resultados_modelo['F1 Score'].idxmax()]\n",
    "\n",
    "print(\"O melhor modelo é:\", best_model_row['Modelo'])"
   ]
  },
  {
   "cell_type": "code",
   "execution_count": null,
   "metadata": {
    "tags": []
   },
   "outputs": [],
   "source": [
    "joblib.dump(rf_ent, '../models/modelo.joblib')"
   ]
  },
  {
   "cell_type": "markdown",
   "metadata": {},
   "source": [
    "## 12. Conclusão  <a id='data-conc'></a>\n",
    "\n",
    "* Neste projeto, foi explorado um conjunto de dados abrangente para construir modelos preditivos de doenças cardíacas. Uma análise exploratória dos dados, pré-processamento, seleção de atributos e treinamento de diversos modelos de aprendizado de máquina foram realizados. Ao comparar seus desempenhos, o modelo mais eficaz para a previsão de doenças cardíacas foi identificado.\n",
    "\n",
    "* Conforme observado, o ensemble stacking de algoritmos de aprendizado de máquina poderosos resultou em um desempenho superior a qualquer modelo individual.\n",
    "* Também foi realizada a interpretação do segundo algoritmo com melhor desempenho, ou seja, o algoritmo Random Forest.\n",
    "* Diferente do encontrado na EDA, as 5 características com maior contribuição são:\n",
    "1. **Max heart Rate achieved**<br>\n",
    "2. **Cholestrol**<br>\n",
    "3. **st_depression**<br>\n",
    "4. **Age**<br>\n",
    "5. **exercise_induced_angina**<br>\n"
   ]
  }
 ],
 "metadata": {
  "kernelspec": {
   "display_name": "Python 3 (ipykernel)",
   "language": "python",
   "name": "python3"
  },
  "language_info": {
   "codemirror_mode": {
    "name": "ipython",
    "version": 3
   },
   "file_extension": ".py",
   "mimetype": "text/x-python",
   "name": "python",
   "nbconvert_exporter": "python",
   "pygments_lexer": "ipython3",
   "version": "3.10.11"
  }
 },
 "nbformat": 4,
 "nbformat_minor": 4
}
